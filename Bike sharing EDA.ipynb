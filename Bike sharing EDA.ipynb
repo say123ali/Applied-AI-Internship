{
 "cells": [
  {
   "cell_type": "markdown",
   "metadata": {},
   "source": [
    "# Project : EDA\n",
    "\n",
    "## Introduction to Problem statement\n",
    "\n",
    "Over the past decade, bicycle-sharing systems have been growing in number and popularity in cities across the world. Bicycle-sharing systems allow users to rent bicycles for short trips, typically 30 minutes or less. Thanks to the rise in information technologies, it is easy for a user of the system to access a dock within the system to unlock or return bicycles. These technologies also provide a wealth of data that can be used to explore how these bike-sharing systems are used.\n",
    "\n",
    "In this project, you will perform an exploratory analysis on data provided by [Motivate](https://www.motivateco.com/), a bike-share system provider for many major cities in the United States. You will compare the system usage between three large cities: New York City, Chicago, and Washington, DC. You will also see if there are any differences within each system for those users that are registered, regular users and those users that are short-term, casual users."
   ]
  },
  {
   "cell_type": "markdown",
   "metadata": {},
   "source": [
    "<a id='pose_questions'></a>\n",
    "## So whats the  Questions?\n",
    "\n",
    "Before looking at the bike sharing data, you should start by asking questions you might want to understand about the bike share data. Consider, for example, if you were working for Motivate. What kinds of information would you want to know about in order to make smarter business decisions? If you were a user of the bike-share service, what factors might influence how you would want to use the service?\n",
    "\n",
    "**Question 1**: Write at least two questions related to bike sharing that you think could be answered by data.\n",
    "\n",
    " Questions  who is working for Motivate:\n",
    "\n",
    "**Answer**: What are the Stations with high usage rate?\n",
    "What is the average trip duration?\n",
    "Number of users with high trip duration.\n",
    "Age Group of users with high usage.\n",
    "\n",
    "\n",
    "Questions asked by someone who is using the services of Motivate:\n",
    "\n",
    "Station Name with high Trip Duration.\n",
    "Types of user with high Trip Duration.\n",
    "Season with high users."
   ]
  },
  {
   "cell_type": "markdown",
   "metadata": {},
   "source": [
    "<a id='wrangling'></a>\n",
    "## Data Collection and Wrangling\n",
    "\n",
    "Now it's time to collect and explore our data. In this project, we will focus on the record of individual trips taken in 2016 from our selected cities: New York City, Chicago, and Washington, DC. Each of these cities has a page where we can freely download the trip data.:\n",
    "\n",
    "- New York City (Citi Bike): [Link](https://www.citibikenyc.com/system-data)\n",
    "- Chicago (Divvy): [Link](https://www.divvybikes.com/system-data)\n",
    "- Washington, DC (Capital Bikeshare): [Link](https://www.capitalbikeshare.com/system-data)\n",
    "\n",
    "If you visit these pages, you will notice that each city has a different way of delivering its data. Chicago updates with new data twice a year, Washington DC is quarterly, and New York City is monthly. **However, you do not need to download the data yourself.** The data has already been collected for you in the `/data/` folder of the project files. While the original data for 2016 is spread among multiple files for each city, the files in the `/data/` folder collect all of the trip data for the year into one file per city. Some data wrangling of inconsistencies in timestamp format within each city has already been performed for you. In addition, a random 2% sample of the original data is taken to make the exploration more manageable. \n",
    "\n",
    "**Question 2**: However, there is still a lot of data for us to investigate, so it's a good idea to start off by looking at one entry from each of the cities we're going to analyze. Run the first code cell below to load some packages and functions that you'll be using in your analysis. Then, complete the second code cell to print out the first trip recorded from each of the cities (the second line of each data file)."
   ]
  },
  {
   "cell_type": "code",
   "execution_count": 10,
   "metadata": {},
   "outputs": [],
   "source": [
    "# write import statements\n",
    "import csv\n",
    "from datetime import datetime \n",
    "from pprint import pprint"
   ]
  },
  {
   "cell_type": "code",
   "execution_count": 11,
   "metadata": {},
   "outputs": [
    {
     "name": "stdout",
     "output_type": "stream",
     "text": [
      "\n",
      "City: NYC\n",
      "OrderedDict([('tripduration', '839'),\n",
      "             ('starttime', '1/1/2016 00:09:55'),\n",
      "             ('stoptime', '1/1/2016 00:23:54'),\n",
      "             ('start station id', '532'),\n",
      "             ('start station name', 'S 5 Pl & S 4 St'),\n",
      "             ('start station latitude', '40.710451'),\n",
      "             ('start station longitude', '-73.960876'),\n",
      "             ('end station id', '401'),\n",
      "             ('end station name', 'Allen St & Rivington St'),\n",
      "             ('end station latitude', '40.72019576'),\n",
      "             ('end station longitude', '-73.98997825'),\n",
      "             ('bikeid', '17109'),\n",
      "             ('usertype', 'Customer'),\n",
      "             ('birth year', ''),\n",
      "             ('gender', '0')])\n",
      "\n",
      "City: Chicago\n",
      "OrderedDict([('trip_id', '9080545'),\n",
      "             ('starttime', '3/31/2016 23:30'),\n",
      "             ('stoptime', '3/31/2016 23:46'),\n",
      "             ('bikeid', '2295'),\n",
      "             ('tripduration', '926'),\n",
      "             ('from_station_id', '156'),\n",
      "             ('from_station_name', 'Clark St & Wellington Ave'),\n",
      "             ('to_station_id', '166'),\n",
      "             ('to_station_name', 'Ashland Ave & Wrightwood Ave'),\n",
      "             ('usertype', 'Subscriber'),\n",
      "             ('gender', 'Male'),\n",
      "             ('birthyear', '1990')])\n",
      "\n",
      "City: Washington\n",
      "OrderedDict([('Duration (ms)', '427387'),\n",
      "             ('Start date', '3/31/2016 22:57'),\n",
      "             ('End date', '3/31/2016 23:04'),\n",
      "             ('Start station number', '31602'),\n",
      "             ('Start station', 'Park Rd & Holmead Pl NW'),\n",
      "             ('End station number', '31207'),\n",
      "             ('End station', 'Georgia Ave and Fairmont St NW'),\n",
      "             ('Bike number', 'W20842'),\n",
      "             ('Member Type', 'Registered')])\n"
     ]
    }
   ],
   "source": [
    "# write your code here  and get below type of output    \n",
    "def print_first_trip(filename):\n",
    "    \"\"\"\n",
    "    This function prints and returns the first data point (second row) from\n",
    "    a csv file that includes a header row.\n",
    "    \"\"\"\n",
    "    # print city name for reference\n",
    "    city = filename.split('-')[0].split('/')[-1]\n",
    "    print('\\nCity: {}'.format(city))\n",
    "    \n",
    "    with open(filename, 'r') as fun:\n",
    "        ## Use the csv library to set up a DictReader object. ##\n",
    "        \n",
    "        tripreader = csv.DictReader(fun)\n",
    "        \n",
    "        ## Use a function on the DictReader object to read the     ##\n",
    "        ## first trip from the data file and store it in a variable.     ##\n",
    "        \n",
    "        firsttrip = tripreader.__next__()\n",
    "        \n",
    "        ## Use the pprint library to print the first trip. ##\n",
    "        \n",
    "        pprint(firsttrip)\n",
    "        \n",
    "    # output city name and first trip for later testing\n",
    "    return (city, firsttrip)\n",
    "\n",
    "# list of files for each city\n",
    "datafiles = ['G:/Downloads/Teclov_Assignment3_EDA/Teclov_assignment_EDA/assignment3/data/NYC-CitiBike-2016.csv',\n",
    "              'G:/Downloads/Teclov_Assignment3_EDA/Teclov_assignment_EDA/assignment3/data/Chicago-Divvy-2016.csv',\n",
    "              'G:/Downloads/Teclov_Assignment3_EDA/Teclov_assignment_EDA/assignment3/data/Washington-CapitalBikeshare-2016.csv',]\n",
    "\n",
    "# print the first trip from each file, store in dictionary\n",
    "exampletrips = {}\n",
    "for datafile in datafiles:\n",
    "    city, firsttrip = print_first_trip(datafile)\n",
    "    exampletrips[city] = firsttrip"
   ]
  },
  {
   "cell_type": "markdown",
   "metadata": {},
   "source": [
    "If everything has been filled out correctly, you should see below the printout of each city name (which has been parsed from the data file name) that the first trip has been parsed in the form of a dictionary. When you set up a `DictReader` object, the first row of the data file is normally interpreted as column names. Every other row in the data file will use those column names as keys, as a dictionary is generated for each row.\n",
    "\n",
    "This will be useful since we can refer to quantities by an easily-understandable label instead of just a numeric index. For example, if we have a trip stored in the variable `row`, then we would rather get the trip duration from `row['duration']` instead of `row[0]`.\n",
    "\n",
    "<a id='condensing'></a>\n",
    "### Condensing the Trip Data\n",
    "\n",
    "It should also be observable from the above printout that each city provides different information. Even where the information is the same, the column names and formats are sometimes different. To make things as simple as possible when we get to the actual exploration, we should trim and clean the data. Cleaning the data makes sure that the data formats across the cities are consistent, while trimming focuses only on the parts of the data we are most interested in to make the exploration easier to work with.\n",
    "\n",
    "You will generate new data files with five values of interest for each trip: trip duration, starting month, starting hour, day of the week, and user type. Each of these may require additional wrangling depending on the city:\n",
    "\n",
    "- **Duration**: This has been given to us in seconds (New York, Chicago) or milliseconds (Washington). A more natural unit of analysis will be if all the trip durations are given in terms of minutes.\n",
    "- **Month**, **Hour**, **Day of Week**: Ridership volume is likely to change based on the season, time of day, and whether it is a weekday or weekend. Use the start time of the trip to obtain these values. The New York City data includes the seconds in their timestamps, while Washington and Chicago do not. The [`datetime`](https://docs.python.org/3/library/datetime.html) package will be very useful here to make the needed conversions.\n",
    "- **User Type**: It is possible that users who are subscribed to a bike-share system will have different patterns of use compared to users who only have temporary passes. Washington divides its users into two types: 'Registered' for users with annual, monthly, and other longer-term subscriptions, and 'Casual', for users with 24-hour, 3-day, and other short-term passes. The New York and Chicago data uses 'Subscriber' and 'Customer' for these groups, respectively. For consistency, you will convert the Washington labels to match the other two.\n",
    "\n",
    "\n",
    "**Question 3a**: Complete the helper functions in the code cells below to address each of the cleaning tasks described above."
   ]
  },
  {
   "cell_type": "code",
   "execution_count": 12,
   "metadata": {},
   "outputs": [],
   "source": [
    "def duration_in_mins(datum, city):\n",
    "    \"\"\"\n",
    "    Takes as input a dictionary containing info about a single trip (datum) and\n",
    "    its origin city (city) and returns the trip duration in units of minutes.\n",
    "    \n",
    "    Remember that Washington is in terms of milliseconds while Chicago and NYC\n",
    "    are in terms of seconds. \n",
    "    \n",
    "    HINT: The csv module reads in all of the data as strings, including numeric\n",
    "    values. You will need a function to convert the strings into an appropriate\n",
    "    numeric type when making your transformations.\n",
    "    see https://docs.python.org/3/library/functions.html\n",
    "    \"\"\"\n",
    "    if city == 'Washington':\n",
    "        # As Washington has the time duration in milliseconds\n",
    "        # convert them to Minutes by dividing with 60,000\n",
    "        \n",
    "        duration = (float(datum['Duration (ms)'])/60000)\n",
    "    elif city == 'Chicago' or city == 'NYC':\n",
    "        # As Chicago and NYC has the time in seconds convert\n",
    "        # them to minutes by dividing with 60\n",
    "        \n",
    "        duration = (float(datum['tripduration'])/60)\n",
    "    else:\n",
    "        print('Invalid City')\n",
    "    \n",
    "    return duration\n",
    "         \n",
    "    \n",
    "\n",
    "# Some tests to check that your code works. There should be no output if all of\n",
    "# the assertions pass. The `example_trips` dictionary was obtained from when\n",
    "# you printed the first trip from each of the original data files.\n",
    "tests = {'NYC': 13.9833,\n",
    "         'Chicago': 15.4333,\n",
    "         'Washington': 7.1231}\n",
    "\n",
    "for city in tests:\n",
    "    assert abs(duration_in_mins(example_trips[city], city) - tests[city]) < .001"
   ]
  },
  {
   "cell_type": "code",
   "execution_count": 13,
   "metadata": {},
   "outputs": [],
   "source": [
    "def time_of_trip(datum, city):\n",
    "    \"\"\"\n",
    "    Takes as input a dictionary containing info about a single trip (datum) and\n",
    "    its origin city (city) and returns the month, hour, and day of the week in\n",
    "    which the trip was made.\n",
    "    \n",
    "    Remember that NYC includes seconds, while Washington and Chicago do not.\n",
    "    \n",
    "    HINT: You should use the datetime module to parse the original date\n",
    "    strings into a format that is useful for extracting the desired information.\n",
    "    see https://docs.python.org/3/library/datetime.html#strftime-and-strptime-behavior\n",
    "    \"\"\"\n",
    "    \n",
    "    # strptime(...) is String Parse Time\n",
    "    # strftime(...) is String Format Time\n",
    "    \n",
    "    # Converted 'month' and 'hour' to Integers to remove leading Zero's.\n",
    "    \n",
    "    if city == 'Washington':\n",
    "        # Washington has 'Start date' as '3/31/2016 22:57'\n",
    "        # and 'End date' as '3/31/2016 23:04'\n",
    "        #print(datum['Start date'])\n",
    "        month = int(datetime.strptime(datum['Start date'],\"%m/%d/%Y %H:%M\").strftime('%m'))\n",
    "        hour = int(datetime.strptime(datum['Start date'],\"%m/%d/%Y %H:%M\").strftime('%H'))\n",
    "        day_of_week = datetime.strptime(datum['Start date'],\"%m/%d/%Y %H:%M\").strftime('%A')\n",
    "    elif city == 'Chicago':\n",
    "        # Chicago has 'starttime' as '3/31/2016 23:30')\n",
    "        # and 'stoptime' as '3/31/2016 23:46'\n",
    "        #print(datum['starttime'])\n",
    "        month = int(datetime.strptime(datum['starttime'],\"%m/%d/%Y %H:%M\").strftime('%m'))\n",
    "        hour = int(datetime.strptime(datum['starttime'],\"%m/%d/%Y %H:%M\").strftime('%H'))\n",
    "        day_of_week = datetime.strptime(datum['starttime'],\"%m/%d/%Y %H:%M\").strftime('%A')\n",
    "    elif city == 'NYC':\n",
    "        # NYC has 'starttime' as '1/1/2016 00:09:55')\n",
    "        # and 'stoptime' as '1/1/2016 00:23:54'\n",
    "        #print(datum['starttime'])\n",
    "        month = int(datetime.strptime(datum['starttime'],\"%m/%d/%Y %H:%M:%S\").strftime('%m'))\n",
    "        hour = int(datetime.strptime(datum['starttime'],\"%m/%d/%Y %H:%M:%S\").strftime('%H'))\n",
    "        day_of_week = datetime.strptime(datum['starttime'],\"%m/%d/%Y %H:%M:%S\").strftime('%A')\n",
    "    else:\n",
    "        print('Invalid City')\n",
    "    \n",
    "    return (month, hour, day_of_week)\n",
    "\n",
    "\n",
    "\n",
    "# Some tests to check that your code works. There should be no output if all of\n",
    "# the assertions pass. The `example_trips` dictionary was obtained from when\n",
    "# you printed the first trip from each of the original data files.\n",
    "tests = {'NYC': (1, 0, 'Friday'),\n",
    "         'Chicago': (3, 23, 'Thursday'),\n",
    "         'Washington': (3, 22, 'Thursday')}\n",
    "\n",
    "for city in tests:\n",
    "    assert time_of_trip(example_trips[city], city) == tests[city]"
   ]
  },
  {
   "cell_type": "code",
   "execution_count": 14,
   "metadata": {},
   "outputs": [
    {
     "name": "stdout",
     "output_type": "stream",
     "text": [
      "Invalid Member Type for Washington\n"
     ]
    }
   ],
   "source": [
    "def type_of_user(datum, city):\n",
    "    \"\"\"\n",
    "    Takes as input a dictionary containing info about a single trip (datum) and\n",
    "    its origin city (city) and returns the type of system user that made the\n",
    "    trip.\n",
    "    \n",
    "    Remember that Washington has different category names compared to Chicago\n",
    "    and NYC. \n",
    "    \"\"\"\n",
    "    \n",
    "    # As Washington has different category names change them\n",
    "    # to reflect the categories in NYC and Chicago.\n",
    "    if city == 'Washington':\n",
    "        if datum['Member Type'] == 'Registered':\n",
    "            datum['Member Type'] = 'Subscriber'\n",
    "        elif datum['Member Type'] == 'Casual':\n",
    "            datum['Member Type'] = 'Customer'\n",
    "        else:\n",
    "            print(\"Invalid Member Type for Washington\")\n",
    "        \n",
    "        user_type = datum['Member Type']\n",
    "    elif city == 'Chicago' or city == 'NYC':\n",
    "        user_type = datum['usertype']\n",
    "    else:\n",
    "        Print(\"Invalid City\")\n",
    "    \n",
    "    return user_type\n",
    "\n",
    "\n",
    "# Some tests to check that your code works. There should be no output if all of\n",
    "# the assertions pass. The `example_trips` dictionary was obtained from when\n",
    "# you printed the first trip from each of the original data files.\n",
    "tests = {'NYC': 'Customer',\n",
    "         'Chicago': 'Subscriber',\n",
    "         'Washington': 'Subscriber'}\n",
    "\n",
    "for city in tests:\n",
    "    assert type_of_user(example_trips[city], city) == tests[city]"
   ]
  },
  {
   "cell_type": "markdown",
   "metadata": {},
   "source": [
    "**Question 3b**: Now, use the helper functions you wrote above to create a condensed data file for each city consisting only of the data fields indicated above. In the `/examples/` folder, you will see an example datafile from the [Bay Area Bike Share](http://www.bayareabikeshare.com/open-data) before and after conversion. Make sure that your output is formatted to be consistent with the example file."
   ]
  },
  {
   "cell_type": "code",
   "execution_count": 15,
   "metadata": {},
   "outputs": [],
   "source": [
    "def condense_data(in_file, out_file, city):\n",
    "    \"\"\"\n",
    "    This function takes full data from the specified input file\n",
    "    and writes the condensed data to a specified output file. The city\n",
    "    argument determines how the input file will be parsed.\n",
    "    \n",
    "    HINT: See the cell below to see how the arguments are structured!\n",
    "    \"\"\"\n",
    "    \n",
    "    with open(out_file, 'w') as f_out, open(in_file, 'r') as f_in:\n",
    "        # set up csv DictWriter object - writer requires column names for the\n",
    "        # first row as the \"fieldnames\" argument\n",
    "        out_colnames = ['duration', 'month', 'hour', 'day_of_week', 'user_type']        \n",
    "        trip_writer = csv.DictWriter(f_out, fieldnames = out_colnames)\n",
    "        trip_writer.writeheader()\n",
    "        \n",
    "        ## TODO: set up csv DictReader object ##\n",
    "        trip_reader = csv.DictReader(f_in)\n",
    "\n",
    "        # collect data from and process each row\n",
    "        for row in trip_reader:\n",
    "            # set up a dictionary to hold the values for the cleaned and trimmed\n",
    "            # data point\n",
    "            new_point = {}\n",
    "\n",
    "            ## TODO: use the helper functions to get the cleaned data from  ##\n",
    "            ## the original data dictionaries.                              ##\n",
    "            ## Note that the keys for the new_point dictionary should match ##\n",
    "            ## the column names set in the DictWriter object above.         ##\n",
    "\n",
    "\n",
    "            ## TODO: write the processed information to the output file.     ##\n",
    "            ## see https://docs.python.org/3/library/csv.html#writer-objects ##\n",
    "            new_point['duration'] = duration_in_mins(row, city)\n",
    "            new_point['month'], new_point['hour'], new_point['day_of_week'] = time_of_trip(row, city)\n",
    "            new_point['user_type'] = type_of_user(row, city)\n",
    "\n",
    "            ## Write the processed information to the output file.     ##\n",
    "            ## see https://docs.python.org/3/library/csv.html#writer-objects ##\n",
    "            trip_writer.writerow(new_point)\n",
    "            "
   ]
  },
  {
   "cell_type": "code",
   "execution_count": 16,
   "metadata": {},
   "outputs": [
    {
     "name": "stdout",
     "output_type": "stream",
     "text": [
      "\n",
      "City: Washington\n",
      "OrderedDict([('duration', '7.123116666666666'),\n",
      "             ('month', '3'),\n",
      "             ('hour', '22'),\n",
      "             ('day_of_week', 'Thursday'),\n",
      "             ('user_type', 'Subscriber')])\n",
      "\n",
      "City: Chicago\n",
      "OrderedDict([('duration', '15.433333333333334'),\n",
      "             ('month', '3'),\n",
      "             ('hour', '23'),\n",
      "             ('day_of_week', 'Thursday'),\n",
      "             ('user_type', 'Subscriber')])\n",
      "\n",
      "City: NYC\n",
      "OrderedDict([('duration', '13.983333333333333'),\n",
      "             ('month', '1'),\n",
      "             ('hour', '0'),\n",
      "             ('day_of_week', 'Friday'),\n",
      "             ('user_type', 'Customer')])\n"
     ]
    }
   ],
   "source": [
    "# Run this cell to check your work\n",
    "city_info = {'Washington': {'in_file': 'G:/Downloads/Teclov_Assignment3_EDA/Teclov_assignment_EDA/assignment3/data/Washington-CapitalBikeshare-2016.csv',\n",
    "                            'out_file': 'G:/Downloads/Teclov_Assignment3_EDA/Teclov_assignment_EDA/assignment3/data/Washington-2016-Summary.csv'},\n",
    "             'Chicago': {'in_file': 'G:/Downloads/Teclov_Assignment3_EDA/Teclov_assignment_EDA/assignment3/data/Chicago-Divvy-2016.csv',\n",
    "                         'out_file': 'G:/Downloads/Teclov_Assignment3_EDA/Teclov_assignment_EDA/assignment3/data/Chicago-2016-Summary.csv'},\n",
    "             'NYC': {'in_file': 'G:/Downloads/Teclov_Assignment3_EDA/Teclov_assignment_EDA/assignment3/data/NYC-CitiBike-2016.csv',\n",
    "                     'out_file': 'G:/Downloads/Teclov_Assignment3_EDA/Teclov_assignment_EDA/assignment3/data/NYC-2016-Summary.csv'}}\n",
    "\n",
    "for city, filenames in city_info.items():\n",
    "    condense_data(filenames['in_file'], filenames['out_file'], city)\n",
    "    print_first_point(filenames['out_file'])"
   ]
  },
  {
   "cell_type": "markdown",
   "metadata": {},
   "source": [
    "\n",
    "\n",
    "<a id='eda'></a>\n",
    "## Exploratory Data Analysis\n",
    "\n",
    "Now that you have the data collected and wrangled, you're ready to start exploring the data. In this section you will write some code to compute descriptive statistics from the data. You will also be introduced to the `matplotlib` library to create some basic histograms of the data.\n",
    "\n",
    "<a id='statistics'></a>\n",
    "### Statistics\n",
    "\n",
    "First, let's compute some basic counts. The first cell below contains a function that uses the csv module to iterate through a provided data file, returning the number of trips made by subscribers and customers. The second cell runs this function on the example Bay Area data in the `/examples/` folder. Modify the cells to answer the question below.\n",
    "\n",
    "**Question 4a**: Which city has the highest number of trips? Which city has the highest proportion of trips made by subscribers? Which city has the highest proportion of trips made by short-term customers?\n",
    "\n",
    "**Answer**: City Highest number of trips: NYC\n",
    "City highest proportion of trips made by subscribers => NYC\n",
    " City highest proportion of trips made by short-term customers => Chicago"
   ]
  },
  {
   "cell_type": "code",
   "execution_count": 17,
   "metadata": {},
   "outputs": [],
   "source": [
    "def number_of_trips(filename):\n",
    "    \n",
    "    \n",
    "    \"\"\"\n",
    "    This function reads in a file with trip data and reports the number of\n",
    "    trips made by subscribers, customers, and total overall.\n",
    "    \"\"\"\n",
    "    with open(filename, 'r') as f_in:\n",
    "        # set up csv reader object\n",
    "        reader = csv.DictReader(f_in)\n",
    "        \n",
    "        # Initialize the variables\n",
    "        n_subscribers = 0\n",
    "        n_customers = 0\n",
    "        \n",
    "        # Count the users based on their type - Subscriber and Customer\n",
    "        for row in reader:\n",
    "            if row['user_type'] == 'Subscriber':\n",
    "                n_subscribers += 1\n",
    "            else:\n",
    "                n_customers += 1\n",
    "        \n",
    "        # compute total number of rides\n",
    "        n_total = n_subscribers + n_customers\n",
    "        \n",
    "        # return tallies as a tuple\n",
    "        return(n_subscribers, n_customers, n_total)\n",
    "        \n",
    "     \n",
    "    \n",
    "def proportion_users(filename):\n",
    "    n_subscribers, n_customers, n_total = number_of_trips(filename)\n",
    "    \n",
    "    proportion_of_subscribers = round((n_subscribers / n_total) * 100, 2)\n",
    "    proportion_of_customers = round((n_customers / n_total) * 100, 2)\n",
    "    \n",
    "    return (proportion_of_subscribers, proportion_of_customers)        \n",
    "\n"
   ]
  },
  {
   "cell_type": "code",
   "execution_count": 18,
   "metadata": {},
   "outputs": [
    {
     "name": "stdout",
     "output_type": "stream",
     "text": [
      "(5666, 633, 6299)\n",
      "NYC: (245896, 30902, 276798)\n",
      "Proportion of Subscribers in NYC: 88.84%  Proportion of Customers in NYC: 11.16%\n",
      "\n",
      "Washington: (51753, 14573, 66326)\n",
      "Proportion of Subscribers in Washington: 78.03%  Proportion of Customers in Washington: 21.97%\n",
      "\n",
      "Chicago: (54982, 17149, 72131)\n",
      "Proportion of Subscribers in Chicago: 76.23%  Proportion of Customers in Chicago: 23.77%\n",
      "\n"
     ]
    }
   ],
   "source": [
    "## Run  this and the modify  previous cell to answer Question 4a. Remember to run ##\n",
    "## the function on the cleaned data files you created from Question 3.      ##\n",
    "\n",
    "data_file = 'G:/Downloads/Teclov_Assignment3_EDA/Teclov_assignment_EDA/assignment3/examples/BayArea-Y3-Summary.csv'\n",
    "print(number_of_trips(data_file))\n",
    "\n",
    "data_file_NYC = 'G:/Downloads/Teclov_Assignment3_EDA/Teclov_assignment_EDA/assignment3/data/NYC-2016-Summary.csv'\n",
    "\n",
    "data_file_Washington = 'G:/Downloads/Teclov_Assignment3_EDA/Teclov_assignment_EDA/assignment3/data/Washington-2016-Summary.csv'\n",
    "\n",
    "data_file_Chicago = 'G:/Downloads/Teclov_Assignment3_EDA/Teclov_assignment_EDA/assignment3/data/Chicago-2016-Summary.csv'\n",
    "\n",
    "tempo = proportion_users(data_file_NYC)\n",
    "print(\"NYC: {}\".format(number_of_trips(data_file_NYC)))\n",
    "print(\"Proportion of Subscribers in NYC: {}%  Proportion of Customers in NYC: {}%\\n\".format(tempo[0], tempo[1]))\n",
    "\n",
    "tempo = proportion_users(data_file_Washington)\n",
    "print(\"Washington: {}\".format(number_of_trips(data_file_Washington)))\n",
    "print(\"Proportion of Subscribers in Washington: {}%  Proportion of Customers in Washington: {}%\\n\".format(tempo[0], tempo[1]))\n",
    "\n",
    "tempo = proportion_users(data_file_Chicago)\n",
    "print(\"Chicago: {}\".format(number_of_trips(data_file_Chicago)))\n",
    "print(\"Proportion of Subscribers in Chicago: {}%  Proportion of Customers in Chicago: {}%\\n\".format(tempo[0], tempo[1]))\n"
   ]
  },
  {
   "cell_type": "markdown",
   "metadata": {},
   "source": [
    "> **Tip**: In order to add additional cells to a notebook, you can use the \"Insert Cell Above\" and \"Insert Cell Below\" options from the menu bar above. There is also an icon in the toolbar for adding new cells, with additional icons for moving the cells up and down the document. By default, new cells are of the code type; you can also specify the cell type (e.g. Code or Markdown) of selected cells from the Cell menu or the dropdown in the toolbar.\n",
    "\n",
    "Now, you will write your own code to continue investigating properties of the data.\n",
    "\n",
    "**Question 4b**: Bike-share systems are designed for riders to take short trips. Most of the time, users are allowed to take trips of 30 minutes or less with no additional charges, with overage charges made for trips of longer than that duration. What is the average trip length for each city? What proportion of rides made in each city are longer than 30 minutes?\n",
    "\n",
    "**Answer**: Average trip length Washington: 18, Proportion of long trips: 10.8 Average trip length Chicago: 16, Proportion of long trips: 8.3 Average trip length NYC: 15, Proportion of long trips: 7.3"
   ]
  },
  {
   "cell_type": "code",
   "execution_count": 19,
   "metadata": {
    "scrolled": true
   },
   "outputs": [
    {
     "name": "stdout",
     "output_type": "stream",
     "text": [
      "Average trip length Washington: 18, Proportion of long trips: 10.8\n",
      "Average trip length Chicago: 16, Proportion of long trips: 8.3\n",
      "Average trip length NYC: 15, Proportion of long trips: 7.3\n"
     ]
    }
   ],
   "source": [
    "## Use this and additional cells to answer Question 4b.                 ##\n",
    "##                                                                      ##\n",
    "## HINT: The csv module reads in all of the data as strings, including  ##\n",
    "## numeric values. You will need a function to convert the strings      ##\n",
    "## into an appropriate numeric type before you aggregate data.          ##\n",
    "## TIP: For the Bay Area example, the average trip length is 14 minutes ##\n",
    "## and 3.5% of trips are longer than 30 minutes.                        ##\n",
    "\n",
    "def avg_trip_length(filename):\n",
    "    \n",
    "    \n",
    "    with open(filename, 'r') as f_in:\n",
    "        # set up csv reader object\n",
    "        reader = csv.DictReader(f_in)\n",
    "        \n",
    "        # Initialize the variables\n",
    "        total_trip_length = 0\n",
    "        TRIP_DURATION = 30.0\n",
    "        longer_trip_count = 0\n",
    "        # Get the total trip length\n",
    "        for row in reader:\n",
    "            \n",
    "            total_trip_length = total_trip_length + float(row['duration'])\n",
    "            if float(row['duration']) > TRIP_DURATION:\n",
    "                 longer_trip_count += 1\n",
    "          #Getting Total number of trips          \n",
    "        total_trips = number_of_trips(filename)\n",
    "        \n",
    "        # return average trip length in minutes(rounded)\n",
    "        avg_trip=int(total_trip_length/total_trips[2])\n",
    "    \n",
    "     # return % of trips that are longer than 30 minutes\n",
    "        proportion=(longer_trip_count/total_trips[2]) * 100\n",
    "        \n",
    "    return avg_trip, round(proportion, 1)  \n",
    "\n",
    "data_file_Washington = 'G:/Downloads/Teclov_Assignment3_EDA/Teclov_assignment_EDA/assignment3/data/Washington-2016-Summary.csv'\n",
    "temp = avg_trip_length(data_file_Washington)\n",
    "print(\"Average trip length Washington: {}, Proportion of long trips: {}\".format(temp[0], temp[1]))\n",
    "\n",
    "data_file_Chicago = 'G:/Downloads/Teclov_Assignment3_EDA/Teclov_assignment_EDA/assignment3/data/Chicago-2016-Summary.csv'\n",
    "temp = avg_trip_length(data_file_Chicago)\n",
    "print(\"Average trip length Chicago: {}, Proportion of long trips: {}\".format(temp[0], temp[1]))\n",
    "\n",
    "data_file_NYC = 'G:/Downloads/Teclov_Assignment3_EDA/Teclov_assignment_EDA/assignment3/data/NYC-2016-Summary.csv'\n",
    "temp = avg_trip_length(data_file_NYC)\n",
    "print(\"Average trip length NYC: {}, Proportion of long trips: {}\".format(temp[0], temp[1]))\n"
   ]
  },
  {
   "cell_type": "markdown",
   "metadata": {},
   "source": [
    "**Question 4c**: Dig deeper into the question of trip duration based on ridership. Choose one city. Within that city, which type of user takes longer rides on average: Subscribers or Customers?\n",
    "\n",
    "**Answer**: Following is the Answer:\n",
    "City Selected: NYC,\n",
    "Average trip duration Customers: 32.8 \n",
    "Average trip duration Subscribers: 13.7 ; "
   ]
  },
  {
   "cell_type": "code",
   "execution_count": 20,
   "metadata": {},
   "outputs": [
    {
     "name": "stdout",
     "output_type": "stream",
     "text": [
      "City Selected NYC, Average trip duration Subscribers: 13.7 ; Average trip duration Customers: 32.8 \n"
     ]
    }
   ],
   "source": [
    "## Use this and additional cells to answer Question 4c. If you have    ##\n",
    "## not done so yet, consider revising some of your previous code to    ##\n",
    "## make use of functions for reusability.                              ##\n",
    "##                                                                     ##\n",
    "## TIP: For the Bay Area example data, you should find the average     ##\n",
    "## Subscriber trip duration to be 9.5 minutes and the average Customer ##\n",
    "## trip duration to be 54.6 minutes. Do the other cities have this     ##\n",
    "## level of difference?                                                ##\n",
    "\n",
    "def answer4c(filename):\n",
    "    with open(filename,'r') as f_in:\n",
    "        Reader = csv.DictReader(f_in)\n",
    "        subscriber_duration = 0\n",
    "        customer_duration = 0\n",
    "        for row in Reader:\n",
    "            if row['user_type'] == 'Subscriber':\n",
    "                subscriber_duration += float(row['duration'])\n",
    "            else:\n",
    "                customer_duration += float(row['duration'])\n",
    "                \n",
    "        total_trips = number_of_trips(filename)\n",
    "        \n",
    "        avg_trip_duration_subscribers = (subscriber_duration / total_trips[0])\n",
    "        \n",
    "        avg_trip_duration_customers = (customer_duration / total_trips[1])\n",
    "    return round(avg_trip_duration_subscribers, 1),  round(avg_trip_duration_customers, 1)\n",
    "                \n",
    "\n",
    "    \n",
    "data_file_NYC = 'G:/Downloads/Teclov_Assignment3_EDA/Teclov_assignment_EDA/assignment3/data/NYC-2016-Summary.csv'\n",
    "temp = answer4c(data_file_NYC)\n",
    "print(\"City Selected NYC, Average trip duration Subscribers: {} ; Average trip duration Customers: {} \".format(temp[0], temp[1]))\n",
    "\n"
   ]
  },
  {
   "cell_type": "markdown",
   "metadata": {},
   "source": [
    "<a id='visualizations'></a>\n",
    "### Visualizations\n",
    "\n",
    "The last set of values that you computed should have pulled up an interesting result. While the mean trip time for Subscribers is well under 30 minutes, the mean trip time for Customers is actually _above_ 30 minutes! It will be interesting for us to look at how the trip times are distributed. In order to do this, a new library will be introduced here, `matplotlib`. Run the cell below to load the library and to generate an example plot."
   ]
  },
  {
   "cell_type": "code",
   "execution_count": 21,
   "metadata": {},
   "outputs": [
    {
     "data": {
      "image/png": "[encoded data removed]",
      "text/plain": [
       "<Figure size 432x288 with 1 Axes>"
      ]
     },
     "metadata": {
      "needs_background": "light"
     },
     "output_type": "display_data"
    }
   ],
   "source": [
    "# load library\n",
    "import matplotlib.pyplot as plt\n",
    "\n",
    "# this is a 'magic word' that allows for plots to be displayed\n",
    "# inline with the notebook. If you want to know more, see:\n",
    "# http://ipython.readthedocs.io/en/stable/interactive/magics.html\n",
    "%matplotlib inline \n",
    "\n",
    "# example histogram, data taken from bay area sample\n",
    "data = [ 7.65,  8.92,  7.42,  5.50, 16.17,  4.20,  8.98,  9.62, 11.48, 14.33,\n",
    "        19.02, 21.53,  3.90,  7.97,  2.62,  2.67,  3.08, 14.40, 12.90,  7.83,\n",
    "        25.12,  8.30,  4.93, 12.43, 10.60,  6.17, 10.88,  4.78, 15.15,  3.53,\n",
    "         9.43, 13.32, 11.72,  9.85,  5.22, 15.10,  3.95,  3.17,  8.78,  1.88,\n",
    "         4.55, 12.68, 12.38,  9.78,  7.63,  6.45, 17.38, 11.90, 11.52,  8.63,]\n",
    "plt.hist(data)\n",
    "plt.title('Distribution of Trip Durations')\n",
    "plt.xlabel('Duration (m)')\n",
    "plt.show()"
   ]
  },
  {
   "cell_type": "markdown",
   "metadata": {},
   "source": [
    "In the above cell, we collected fifty trip times in a list, and passed this list as the first argument to the `.hist()` function. This function performs the computations and creates plotting objects for generating a histogram, but the plot is actually not rendered until the `.show()` function is executed. The `.title()` and `.xlabel()` functions provide some labeling for plot context.\n",
    "\n",
    "You will now use these functions to create a histogram of the trip times for the city you selected in question 4c. Don't separate the Subscribers and Customers for now: just collect all of the trip times and plot them."
   ]
  },
  {
   "cell_type": "code",
   "execution_count": 22,
   "metadata": {},
   "outputs": [
    {
     "data": {
      "image/png": "[encoded data removed]",
      "text/plain": [
       "<Figure size 432x288 with 1 Axes>"
      ]
     },
     "metadata": {
      "needs_background": "light"
     },
     "output_type": "display_data"
    }
   ],
   "source": [
    "## Use this and additional cells to collect all of the trip times as a list ##\n",
    "## and then use pyplot functions to generate a histogram of trip times.     ##\n",
    "\n",
    "def plot_graph(filename,city):\n",
    "    with open(filename, 'r') as f_in:\n",
    "        Reader = csv.DictReader(f_in)\n",
    "        \n",
    "        data = []\n",
    "        \n",
    "        for row in Reader:\n",
    "            data.append(round(float(row['duration']), 2))\n",
    "    plt.hist(data)\n",
    "    plt.title('Distribution of Trip Durations for ' + city)\n",
    "    plt.xlabel('Duration (m)')\n",
    "    plt.show()\n",
    "            \n",
    "data_file_Washington = 'G:/Downloads/Teclov_Assignment3_EDA/Teclov_assignment_EDA/assignment3/data/Washington-2016-Summary.csv'\n",
    "plot_graph(data_file_Washington, 'Washington')\n"
   ]
  },
  {
   "cell_type": "markdown",
   "metadata": {},
   "source": [
    "If you followed the use of the `.hist()` and `.show()` functions exactly like in the example, you're probably looking at a plot that's completely unexpected. The plot consists of one extremely tall bar on the left, maybe a very short second bar, and a whole lot of empty space in the center and right. Take a look at the duration values on the x-axis. This suggests that there are some highly infrequent outliers in the data. Instead of reprocessing the data, you will use additional parameters with the `.hist()` function to limit the range of data that is plotted. Documentation for the function can be found [[here]](https://matplotlib.org/devdocs/api/_as_gen/matplotlib.pyplot.hist.html#matplotlib.pyplot.hist).\n",
    "\n",
    "**Question 5**: Use the parameters of the `.hist()` function to plot the distribution of trip times for the Subscribers in your selected city. Do the same thing for only the Customers. Add limits to the plots so that only trips of duration less than 75 minutes are plotted. As a bonus, set the plots up so that bars are in five-minute wide intervals. For each group, where is the peak of each distribution? How would you describe the shape of each distribution?\n",
    "\n",
    "**Answer**: \n",
    "For Subscribers: write answer\n",
    "For Customers: write answer\n",
    "\n",
    "Since both the graph are dense on one side therefore they are Right Skewed Distribution. "
   ]
  },
  {
   "cell_type": "code",
   "execution_count": 24,
   "metadata": {},
   "outputs": [
    {
     "data": {
      "image/png": "[encoded data removed]",
      "text/plain": [
       "<Figure size 432x288 with 1 Axes>"
      ]
     },
     "metadata": {
      "needs_background": "light"
     },
     "output_type": "display_data"
    }
   ],
   "source": [
    "## Use this and additional cells to answer Question 5. ##\n",
    "import numpy as np\n",
    "def plot_subscriber(filename):\n",
    "    \n",
    "    with open(filename, 'r') as f_in:\n",
    "        Reader = csv.DictReader(f_in)\n",
    "        data = []\n",
    "        \n",
    "        for row in Reader:\n",
    "            if row['user_type'] == 'Subscriber':\n",
    "                data.append(round(float(row['duration']), 2))\n",
    "                \n",
    "    plt.hist(data, bins = [0, 5, 10, 15, 20, 25, 30, 35, 40, 45, 50, 55, 60, 65, 70, 75])\n",
    "    plt.xticks(np.arange(0, 76, 5.0))\n",
    "    plt.title('Plot of Trip Durations of Subscribers in Washington')\n",
    "    plt.xlabel('Duration (m)')\n",
    "    plt.show()\n",
    "            \n",
    "data_file_Washington = 'G:/Downloads/Teclov_Assignment3_EDA/Teclov_assignment_EDA/assignment3/data/Washington-2016-Summary.csv'\n",
    "plot_subscriber(data_file_Washington)\n"
   ]
  },
  {
   "cell_type": "code",
   "execution_count": 25,
   "metadata": {},
   "outputs": [
    {
     "data": {
      "image/png": "[encoded data removed]",
      "text/plain": [
       "<Figure size 432x288 with 1 Axes>"
      ]
     },
     "metadata": {
      "needs_background": "light"
     },
     "output_type": "display_data"
    }
   ],
   "source": [
    "def plot_customer(filename):\n",
    "    \n",
    "    with open(filename, 'r') as f_in:\n",
    "        Reader = csv.DictReader(f_in)\n",
    "        data = []\n",
    "        \n",
    "        for row in Reader:\n",
    "            if row['user_type'] == 'Customer':\n",
    "                data.append(round(float(row['duration']), 2))\n",
    "    \n",
    "    plt.hist(data, bins = [0, 5, 10, 15, 20, 25, 30, 35, 40, 45, 50, 55, 60, 65, 70, 75])\n",
    "    plt.xticks(np.arange(0, 76, 5.0))\n",
    "    plt.title('Plot of Trip Durations of Customers in Washington')\n",
    "    plt.xlabel('Duration (m)')\n",
    "    plt.show()\n",
    "            \n",
    "data_file_Washington = 'G:/Downloads/Teclov_Assignment3_EDA/Teclov_assignment_EDA/assignment3/data/Washington-2016-Summary.csv'\n",
    "plot_customer(data_file_Washington)\n"
   ]
  },
  {
   "cell_type": "markdown",
   "metadata": {
    "collapsed": true
   },
   "source": [
    "<a id='eda_continued'></a>\n",
    "## Performing Your Own Analysis\n",
    "\n",
    "So far, you've performed an initial exploration into the data available. You have compared the relative volume of trips made between three U.S. cities and the ratio of trips made by Subscribers and Customers. For one of these cities, you have investigated differences between Subscribers and Customers in terms of how long a typical trip lasts. Now it is your turn to continue the exploration in a direction that you choose. Here are a few suggestions for questions to explore:\n",
    "\n",
    "- How does ridership differ by month or season? Which month / season has the highest ridership? Does the ratio of Subscriber trips to Customer trips change depending on the month or season?\n",
    "- Is the pattern of ridership different on the weekends versus weekdays? On what days are Subscribers most likely to use the system? What about Customers? Does the average duration of rides change depending on the day of the week?\n",
    "- During what time of day is the system used the most? Is there a difference in usage patterns for Subscribers and Customers?\n",
    "\n",
    "If any of the questions you posed in your answer to question 1 align with the bullet points above, this is a good opportunity to investigate one of them. As part of your investigation, you will need to create a visualization. If you want to create something other than a histogram, then you might want to consult the [Pyplot documentation](https://matplotlib.org/devdocs/api/pyplot_summary.html). In particular, if you are plotting values across a categorical variable (e.g. city, user type), a bar chart will be useful. The [documentation page for `.bar()`](https://matplotlib.org/devdocs/api/_as_gen/matplotlib.pyplot.bar.html#matplotlib.pyplot.bar) includes links at the bottom of the page with examples for you to build off of for your own use.\n",
    "\n",
    "**Question 6**: Continue the investigation by exploring another question that could be answered by the data available. Document the question you want to explore below. Your investigation should involve at least two variables and should compare at least two groups. You should also use at least one visualization as part of your explorations.\n",
    "\n",
    "**Answer**: \n",
    "The given data can be use to understand customer behaviour for increasing service efficiency: the most commom comparison that can be made is customer behaviour on weekends and weekdays.\n",
    "\n",
    "For Customer: Ridership was greater on Weekends as compared to Weekdays. Maximum ridership was on Saturday For Subscriber: Ridership was greater on Weekdays as compared to Weekends. Maximum ridership was on Wednesday"
   ]
  },
  {
   "cell_type": "code",
   "execution_count": 26,
   "metadata": {},
   "outputs": [
    {
     "data": {
      "image/png": "[encoded data removed]",
      "text/plain": [
       "<Figure size 432x288 with 1 Axes>"
      ]
     },
     "metadata": {
      "needs_background": "light"
     },
     "output_type": "display_data"
    },
    {
     "name": "stdout",
     "output_type": "stream",
     "text": [
      "For Subscriber: Ridership was greater on Weekdays as compared to Weekends. Maximum ridership was on Wednesday\n"
     ]
    },
    {
     "data": {
      "image/png": "[encoded data removed]",
      "text/plain": [
       "<Figure size 432x288 with 1 Axes>"
      ]
     },
     "metadata": {
      "needs_background": "light"
     },
     "output_type": "display_data"
    },
    {
     "name": "stdout",
     "output_type": "stream",
     "text": [
      "For Customer: Ridership was greater on Weekends as compared to Weekdays. Maximum ridership was on Saturday\n"
     ]
    }
   ],
   "source": [
    "## Use this and additional cells to continue to explore the dataset. ##\n",
    "## Once you have performed your exploration, document your findings  ##\n",
    "## in the Markdown cell above.         \n",
    "\n",
    "import calendar\n",
    "def per_day_analysis(filename, usertype):\n",
    "    if usertype not in ['Subscriber', 'Customer']:\n",
    "        return \"User type does not exist !\"\n",
    "    \n",
    "    user_on_each_day = [0, 0, 0, 0, 0, 0, 0]\n",
    "    user_on_weekdays = 0\n",
    "    user_on_weekends = 0\n",
    "    \n",
    "    with open(filename, 'r') as f_in:\n",
    "        Reader = csv.DictReader(f_in)\n",
    "        \n",
    "        for row in Reader:\n",
    "            if row['user_type'] == usertype:\n",
    "                if row['day_of_week'] == 'Monday':\n",
    "                    user_on_each_day[0] += 1\n",
    "                    user_on_weekdays += 1\n",
    "                elif row['day_of_week'] == 'Tuesday':\n",
    "                    user_on_each_day[1] += 1\n",
    "                    user_on_weekdays += 1\n",
    "                elif row['day_of_week'] == 'Wednesday':\n",
    "                    user_on_each_day[2] += 1\n",
    "                    user_on_weekdays += 1\n",
    "                elif row['day_of_week'] == 'Thursday':\n",
    "                    user_on_each_day[3] += 1\n",
    "                    user_on_weekdays += 1\n",
    "                elif row['day_of_week'] == 'Friday':\n",
    "                    user_on_each_day[4] += 1\n",
    "                    user_on_weekends += 1\n",
    "                elif row['day_of_week'] == 'Saturday':\n",
    "                    user_on_each_day[5] += 1\n",
    "                    user_on_weekends += 1\n",
    "                elif row['day_of_week'] == 'Sunday':\n",
    "                    user_on_each_day[6] += 1\n",
    "                    user_on_weekends += 1\n",
    "    \n",
    "    day_system_most_used = calendar.day_name[user_on_each_day.index(max(user_on_each_day))]\n",
    "    \n",
    "    x = np.arange(7)\n",
    "    plt.bar(x, user_on_each_day, 0.5)\n",
    "    plt.xticks(x, ('Mon', 'Tue', 'Wed', 'Thu', 'Fri', 'Sat', 'Sun'))\n",
    "    plt.title('Ridership on different days of the week for {}s in Washington.'.format(usertype))\n",
    "    plt.xlabel('Day of week')\n",
    "    plt.ylabel('Ridership')\n",
    "    plt.show()\n",
    "    \n",
    "    if(user_on_weekdays > user_on_weekends):\n",
    "        return \"For {}: Ridership was greater on Weekdays as compared to Weekends. Maximum ridership was on {}\".format(usertype, day_system_most_used)\n",
    "    else:\n",
    "        return \"For {}: Ridership was greater on Weekends as compared to Weekdays. Maximum ridership was on {}\".format(usertype, day_system_most_used)\n",
    "             \n",
    "data_file_Washington = 'G:/Downloads/Teclov_Assignment3_EDA/Teclov_assignment_EDA/assignment3/data/Washington-2016-Summary.csv'\n",
    "\n",
    "print(per_day_analysis(data_file_Washington,'Subscriber'))\n",
    "print(per_day_analysis(data_file_Washington,'Customer'))"
   ]
  },
  {
   "cell_type": "markdown",
   "metadata": {},
   "source": [
    "<a id='conclusions'></a>\n",
    "## Conclusions\n",
    "\n",
    "Congratulations on completing the project! This is only a sampling of the data analysis process: from generating questions, wrangling the data, and to exploring the data. Normally, at this point in the data analysis process, you might want to draw conclusions about the data by performing a statistical test or fitting the data to a model for making predictions. There are also a lot of potential analyses that could be performed on the data which are not possible with only the data provided. For example, detailed location data has not been investigated. Where are the most commonly used docks? What are the most common routes? As another example, weather has potential to have a large impact on daily ridership. How much is ridership impacted when there is rain or snow? Are subscribers or customers affected more by changes in weather?\n",
    "\n",
    "**Question 7**: Putting the bike share data aside, think of a topic or field of interest where you would like to be able to apply the techniques of data science. What would you like to be able to learn from your chosen subject?\n",
    "\n",
    "**Answer**: \n",
    "\n",
    "As Iam doing an online course of Machine Learning, I am interested in applying the techniques of data science to the field of online learning. From the data collected from e-learners, we can get to know about l their personal charateristics, clicking habits, frequency of learning, time spent on each project/course/program, their choice of courses/programs/degrees, their purpose of learning, career goal by getting this information we can provide personalized courses, improve our service, attract users and by doing so we can increase our subscriptions to the course.\n",
    "\n",
    "\n",
    "\n"
   ]
  },
  {
   "cell_type": "code",
   "execution_count": 27,
   "metadata": {},
   "outputs": [
    {
     "data": {
      "text/plain": [
       "4294967295"
      ]
     },
     "execution_count": 27,
     "metadata": {},
     "output_type": "execute_result"
    }
   ],
   "source": [
    "from subprocess import call\n",
    "call(['python', '-m', 'nbconvert', 'Bike_Share_Analysis.ipynb'])"
   ]
  },
  {
   "cell_type": "code",
   "execution_count": null,
   "metadata": {},
   "outputs": [],
   "source": []
  }
 ],
 "metadata": {
  "anaconda-cloud": {},
  "kernelspec": {
   "display_name": "Python 3",
   "language": "python",
   "name": "python3"
  },
  "language_info": {
   "codemirror_mode": {
    "name": "ipython",
    "version": 3
   },
   "file_extension": ".py",
   "mimetype": "text/x-python",
   "name": "python",
   "nbconvert_exporter": "python",
   "pygments_lexer": "ipython3",
   "version": "3.7.0"
  }
 },
 "nbformat": 4,
 "nbformat_minor": 1
}
