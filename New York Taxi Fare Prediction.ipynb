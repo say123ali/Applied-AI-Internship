{
  "cells": [
    {
      "metadata": {
        "_uuid": "8f2839f25d086af736a60e9eeb907d3b93b6e0e5",
        "_cell_guid": "b1076dfc-b9ad-4769-8c92-a6c4dae69d19",
        "trusted": true
      },
      "cell_type": "code",
      "source": "# This Python 3 environment comes with many helpful analytics libraries installed\n# It is defined by the kaggle/python docker image: https://github.com/kaggle/docker-python\n# For example, here's several helpful packages to load in \n\nimport numpy as np # linear algebra\nimport pandas as pd # data processing, CSV file I/O (e.g. pd.read_csv)\nimport sklearn\nimport seaborn as sns\nimport matplotlib.pyplot as plt\n# Input data files are available in the \"../input/\" directory.\n# For example, running this (by clicking run or pressing Shift+Enter) will list the files in the input directory\n\nimport os\nprint(os.listdir(\"../input\"))\n# Any results you write to the current directory are saved as output.",
      "execution_count": null,
      "outputs": []
    },
    {
      "metadata": {
        "_cell_guid": "79c7e3d0-c299-4dcb-8224-4455121ee9b0",
        "_uuid": "d629ff2d2480ee46fbb7e2d37f6b5fab8052498a",
        "trusted": true
      },
      "cell_type": "code",
      "source": "train = pd.read_csv(\"../input/train.csv\", nrows = 10000000)\ntest = pd.read_csv(\"../input/test.csv\")",
      "execution_count": null,
      "outputs": []
    },
    {
      "metadata": {
        "_uuid": "b1eeb9d0345aa40e7f56abecf9d31160c5d54e6c"
      },
      "cell_type": "markdown",
      "source": "**PART 1 --> DATA CLEANSING & EXPLORATORY DATA ANALYSIS (EDA)**\n\nWill perform the following activities\n* Shape of train and test sets\n* Check for NaNs and drop them (if any)\n* Check for outliers and drop them (if any)\n* Type conversion of relevant fields"
    },
    {
      "metadata": {
        "trusted": true,
        "_uuid": "148ecc97189af46a200b00cc52fa0a91e21bd044"
      },
      "cell_type": "code",
      "source": "train.shape",
      "execution_count": null,
      "outputs": []
    },
    {
      "metadata": {
        "trusted": true,
        "_uuid": "6faedd32b02b15a77ff6d356ac51dd747c3127a9"
      },
      "cell_type": "code",
      "source": "test.shape",
      "execution_count": null,
      "outputs": []
    },
    {
      "metadata": {
        "trusted": true,
        "_uuid": "e89ffea1211d7394ec677f5dc46bad3eaf521094",
        "_kg_hide-output": true
      },
      "cell_type": "code",
      "source": "train.head(10)",
      "execution_count": null,
      "outputs": []
    },
    {
      "metadata": {
        "trusted": true,
        "scrolled": false,
        "_uuid": "a98e66b89be9c27fa284966eb71ba2ea09b4c5e1",
        "_kg_hide-output": true
      },
      "cell_type": "code",
      "source": "train.describe()",
      "execution_count": null,
      "outputs": []
    },
    {
      "metadata": {
        "trusted": true,
        "_uuid": "0b18baf8d30016a2d3012c33a7b28068b045ad08",
        "_kg_hide-output": true
      },
      "cell_type": "code",
      "source": "#check for missing values in train data\ntrain.isnull().sum().sort_values(ascending=False)",
      "execution_count": null,
      "outputs": []
    },
    {
      "metadata": {
        "trusted": true,
        "_uuid": "c8e57c375b958bcf49f577589b0d12bdab83e182",
        "_kg_hide-output": true
      },
      "cell_type": "code",
      "source": "#check for missing values in test data\ntest.isnull().sum().sort_values(ascending=False)",
      "execution_count": null,
      "outputs": []
    },
    {
      "metadata": {
        "trusted": true,
        "_uuid": "5c861be6ec1b95017a0b95d88d4452717e8a1f5e"
      },
      "cell_type": "code",
      "source": "#drop the missing values\ntrain = train.drop(train[train.isnull().any(1)].index, axis = 0)",
      "execution_count": null,
      "outputs": []
    },
    {
      "metadata": {
        "trusted": true,
        "_uuid": "ae6a2b631826cbab3e7925d236f884607ae26fd6"
      },
      "cell_type": "code",
      "source": "train.shape",
      "execution_count": null,
      "outputs": []
    },
    {
      "metadata": {
        "trusted": true,
        "_uuid": "6719a8e5d3dfb155d189e86f481e1ec36afadec7",
        "_kg_hide-output": true
      },
      "cell_type": "code",
      "source": "#check the target column\ntrain['fare_amount'].describe()",
      "execution_count": null,
      "outputs": []
    },
    {
      "metadata": {
        "_uuid": "fcdbd7ba9e52065fe228a33e3b6df497788c04af"
      },
      "cell_type": "markdown",
      "source": "Fare amount has a negative value, which doesn't make sense. Remove these fields"
    },
    {
      "metadata": {
        "trusted": true,
        "_uuid": "f4c6018d2bef8ad5c8c4ce80811f601da66083e2"
      },
      "cell_type": "code",
      "source": "#38 fields have negative fare_amount values.\nfrom collections import Counter\nCounter(train['fare_amount']<0)",
      "execution_count": null,
      "outputs": []
    },
    {
      "metadata": {
        "trusted": true,
        "_uuid": "bd531f39d88ebdf5aaee0068e01a70d752999096"
      },
      "cell_type": "code",
      "source": "train = train.drop(train[train['fare_amount']<0].index, axis=0)\ntrain.shape",
      "execution_count": null,
      "outputs": []
    },
    {
      "metadata": {
        "trusted": true,
        "_uuid": "397b9b61bd27e5d05f937de092140df0e765b9b5",
        "_kg_hide-output": true
      },
      "cell_type": "code",
      "source": "#no more negative values in the fare field\ntrain['fare_amount'].describe()",
      "execution_count": null,
      "outputs": []
    },
    {
      "metadata": {
        "_kg_hide-output": true,
        "trusted": true,
        "_uuid": "4cf0dafef4aaf80c13721a3404ad3dbc759cd65e"
      },
      "cell_type": "code",
      "source": "#highest fare is $500\ntrain['fare_amount'].sort_values(ascending=False)",
      "execution_count": null,
      "outputs": []
    },
    {
      "metadata": {
        "_uuid": "94bba1478130e361a935fc2eae552f3fdb5cfae9"
      },
      "cell_type": "markdown",
      "source": "Next check the passenger_count variable"
    },
    {
      "metadata": {
        "trusted": true,
        "_uuid": "35df6fbd1aab70134962dd4bb58edda7e29fca61",
        "_kg_hide-output": true
      },
      "cell_type": "code",
      "source": "train['passenger_count'].describe()",
      "execution_count": null,
      "outputs": []
    },
    {
      "metadata": {
        "trusted": true,
        "_uuid": "12f7f4f99a082c3d08bf100d9dad8e7395d5e420"
      },
      "cell_type": "code",
      "source": "#max is 208 passengers. Assuming that a bus is a 'taxi' in NYC, I don't think a bus can carry 208 passengers! Let' see the distribution of this field\n#LOL! One field. this is DEFINITELY an outlier. Lets drop it \ntrain[train['passenger_count']>6]",
      "execution_count": null,
      "outputs": []
    },
    {
      "metadata": {
        "trusted": true,
        "_uuid": "c4fba2989b302173b500f888898adbc2cc5d54de"
      },
      "cell_type": "code",
      "source": "train = train.drop(train[train['passenger_count']==208].index, axis = 0)",
      "execution_count": null,
      "outputs": []
    },
    {
      "metadata": {
        "trusted": true,
        "_uuid": "39bc70eb463712ecf9313e98d858bd979c7b2074",
        "_kg_hide-output": true
      },
      "cell_type": "code",
      "source": "#much neater now! Max number of passengers are 6. Which makes sense is the cab is an SUV :)\ntrain['passenger_count'].describe()",
      "execution_count": null,
      "outputs": []
    },
    {
      "metadata": {
        "trusted": true,
        "_uuid": "539a66d6677957e3b1c3e77f5db77f4e9b3f419b",
        "_kg_hide-output": true
      },
      "cell_type": "code",
      "source": "#Next, let us explore the pickup latitude and longitudes\ntrain['pickup_latitude'].describe()",
      "execution_count": null,
      "outputs": []
    },
    {
      "metadata": {
        "_uuid": "e806a4db779a817cff657b5434d2103977efcb8a"
      },
      "cell_type": "markdown",
      "source": "Quick Googling gave me this info\n* Latitudes range from -90 to 90.\n* Longitudes range from -180 to 180.\n\nThe above describe clearly shows some outliers. Let's filter them"
    },
    {
      "metadata": {
        "trusted": true,
        "_uuid": "7245a4b3488926be31d785bc05e20c2587f50d39"
      },
      "cell_type": "code",
      "source": "train[train['pickup_latitude']<-90]",
      "execution_count": null,
      "outputs": []
    },
    {
      "metadata": {
        "trusted": true,
        "_uuid": "8079237f624f389253f36386ef5dc65cd25f97e4",
        "collapsed": true
      },
      "cell_type": "code",
      "source": "train[train['pickup_latitude']>90]",
      "execution_count": null,
      "outputs": []
    },
    {
      "metadata": {
        "trusted": true,
        "_uuid": "90fbfd284e8816cea4e27858d979abdc205bfd9d",
        "_kg_hide-output": true
      },
      "cell_type": "code",
      "source": "#We need to drop these outliers\ntrain = train.drop(((train[train['pickup_latitude']<-90])|(train[train['pickup_latitude']>90])).index, axis=0)",
      "execution_count": null,
      "outputs": []
    },
    {
      "metadata": {
        "trusted": true,
        "_uuid": "b59f14fdc9955b0637893697b1377d7a3ff40113",
        "_kg_hide-output": true
      },
      "cell_type": "code",
      "source": "#12 rows dropped\ntrain.shape",
      "execution_count": null,
      "outputs": []
    },
    {
      "metadata": {
        "trusted": true,
        "_uuid": "fda34b448ce42ab20f1f4a27f816bcc1f1500785",
        "_kg_hide-output": true
      },
      "cell_type": "code",
      "source": "#similar operation for pickup longitude\ntrain['pickup_longitude'].describe()",
      "execution_count": null,
      "outputs": []
    },
    {
      "metadata": {
        "trusted": true,
        "_uuid": "03909e003059735d43c4d6e3408cd5911663909d",
        "_kg_hide-output": true
      },
      "cell_type": "code",
      "source": "train[train['pickup_longitude']<-180]",
      "execution_count": null,
      "outputs": []
    },
    {
      "metadata": {
        "trusted": true,
        "_uuid": "77a4b7bbfc31770b9614968f7abbd16b055d9e37",
        "_kg_hide-output": true
      },
      "cell_type": "code",
      "source": "train[train['pickup_longitude']>180]",
      "execution_count": null,
      "outputs": []
    },
    {
      "metadata": {
        "trusted": true,
        "_uuid": "bc1c8195a49b5a6352865b4ed359f7be6dc08ff4"
      },
      "cell_type": "code",
      "source": "train = train.drop(((train[train['pickup_longitude']<-180])|(train[train['pickup_longitude']>180])).index, axis=0)",
      "execution_count": null,
      "outputs": []
    },
    {
      "metadata": {
        "trusted": true,
        "_uuid": "b6447d87d14d2709130b15e82831eeb79f1d9fa8"
      },
      "cell_type": "code",
      "source": "#11 rows dropped\ntrain.shape",
      "execution_count": null,
      "outputs": []
    },
    {
      "metadata": {
        "trusted": true,
        "_uuid": "442d8e81127ea65a1c6c7da62a29ab02e1a3ee1d",
        "_kg_hide-output": true
      },
      "cell_type": "code",
      "source": "#similar operation for dropoff latitude and longitude\ntrain[train['dropoff_latitude']<-90]",
      "execution_count": null,
      "outputs": []
    },
    {
      "metadata": {
        "trusted": true,
        "_uuid": "c9dfc75fa94351b40796abb43a9bee5f3891e246",
        "_kg_hide-output": true
      },
      "cell_type": "code",
      "source": "train[train['dropoff_latitude']>90]",
      "execution_count": null,
      "outputs": []
    },
    {
      "metadata": {
        "trusted": true,
        "_uuid": "64612fe9653b0c692e9f9a948ac9d5b00fc5a315"
      },
      "cell_type": "code",
      "source": "train = train.drop(((train[train['dropoff_latitude']<-90])|(train[train['dropoff_latitude']>90])).index, axis=0)",
      "execution_count": null,
      "outputs": []
    },
    {
      "metadata": {
        "trusted": true,
        "_uuid": "4c424b2380714d9549d4483884d977a76ab02b35"
      },
      "cell_type": "code",
      "source": "#8 rows dropped\ntrain.shape",
      "execution_count": null,
      "outputs": []
    },
    {
      "metadata": {
        "trusted": true,
        "_uuid": "31de1cba98e857627f7fa8d1854168c9a6ff4326",
        "_kg_hide-output": true
      },
      "cell_type": "code",
      "source": "train[train['dropoff_latitude']<-180]|train[train['dropoff_latitude']>180]",
      "execution_count": null,
      "outputs": []
    },
    {
      "metadata": {
        "_uuid": "d3d025ae4622a6954436b15ef933b505b0b1a18d"
      },
      "cell_type": "markdown",
      "source": "Check the data types of each column"
    },
    {
      "metadata": {
        "trusted": true,
        "_uuid": "5ba1db209e2253c7c22db60634241c175dff6b21",
        "_kg_hide-output": true
      },
      "cell_type": "code",
      "source": "train.dtypes",
      "execution_count": null,
      "outputs": []
    },
    {
      "metadata": {
        "_uuid": "f89b184f3cbbeb867a098e270ec089a36b8ee771"
      },
      "cell_type": "markdown",
      "source": "key and pickup_datetime seem to be datetime columns which are in object format. Let's convert them to datetime"
    },
    {
      "metadata": {
        "trusted": true,
        "_uuid": "afc832f0969a8fc010ce3dd46eb1966e6945d1ca"
      },
      "cell_type": "code",
      "source": "train['key'] = pd.to_datetime(train['key'])\ntrain['pickup_datetime']  = pd.to_datetime(train['pickup_datetime'])",
      "execution_count": null,
      "outputs": []
    },
    {
      "metadata": {
        "trusted": true,
        "_uuid": "067fb6e3295a736a3698dec6d20786badf1ac651"
      },
      "cell_type": "code",
      "source": "#Convert for test data\ntest['key'] = pd.to_datetime(test['key'])\ntest['pickup_datetime']  = pd.to_datetime(test['pickup_datetime'])",
      "execution_count": null,
      "outputs": []
    },
    {
      "metadata": {
        "trusted": true,
        "_uuid": "31e56c5a630e56e4677843e4af5993f9fbb2194d",
        "_kg_hide-output": true
      },
      "cell_type": "code",
      "source": "#check the dtypes after conversion\ntrain.dtypes",
      "execution_count": null,
      "outputs": []
    },
    {
      "metadata": {
        "trusted": true,
        "_uuid": "34c864b4dc55c552090379ddc1bec95e276a9c58"
      },
      "cell_type": "code",
      "source": "test.dtypes",
      "execution_count": null,
      "outputs": []
    },
    {
      "metadata": {
        "trusted": true,
        "_uuid": "d8d14f0ae02f77f01907dbe5cc0d297091414b43",
        "_kg_hide-output": true
      },
      "cell_type": "code",
      "source": "#check the data\ntrain.head()",
      "execution_count": null,
      "outputs": []
    },
    {
      "metadata": {
        "_kg_hide-output": true,
        "trusted": true,
        "_uuid": "020d8c08ae9d9cfd7bdbc64fab7de34f0d16c8f0"
      },
      "cell_type": "code",
      "source": "test.head()",
      "execution_count": null,
      "outputs": []
    },
    {
      "metadata": {
        "_uuid": "80dd3f73e280b5cd77c26f13a4ff7d6b4dd503eb"
      },
      "cell_type": "markdown",
      "source": "Now, for **EDA**. The following are my considerations - \n1. Does the number of passengers affect the fare? \n2. Does the date and time of pickup affect the fare?\n3. Does the day of the week affect the fare?\n4. Does the distance travelled affect the fare?\n\nFirst, let's split the datetime field 'pickup_datetime' to the following - \n* year\n* month\n* date\n* hour\n* day of week\n\nUsing these we shall calculate the day of the week and come to our conclusions about how pickup_location affects the fare.\nAlso, create a new field 'distance' to fetch the distance between the pickup and the drop."
    },
    {
      "metadata": {
        "_uuid": "7f6c7a7a79324519f70968efba154a290e7ab8a9"
      },
      "cell_type": "markdown",
      "source": "We can calulate the distance in a sphere when latitudes and longitudes are given by [Haversine formula](https://en.wikipedia.org/wiki/Haversine_formula)\n\n**haversine(θ) = sin²(θ/2)**\n\nEventually, the formual boils down to the following where φ is latitude, λ is longitude, R is earth’s radius (mean radius = 6,371km) to include latitude and longitude coordinates (A and B in this case).\n\n**a = sin²((φB - φA)/2) + cos φA . cos φB . sin²((λB - λA)/2)**\n\n**c = 2 * atan2( √a, √(1−a) )**\n\n**d = R ⋅ c**\n\n**d = Haversine distance**\n\n*Refer [this](https://community.esri.com/groups/coordinate-reference-systems/blog/2017/10/05/haversine-formula) page for more info and examples on Haversine formula*"
    },
    {
      "metadata": {
        "trusted": true,
        "_uuid": "fc6b9c29d0509beaccf9dcf71acedc2747e43e69",
        "collapsed": true
      },
      "cell_type": "code",
      "source": "def haversine_distance(lat1, long1, lat2, long2):\n    data = [train, test]\n    for i in data:\n        R = 6371  #radius of earth in kilometers\n        #R = 3959 #radius of earth in miles\n        phi1 = np.radians(i[lat1])\n        phi2 = np.radians(i[lat2])\n    \n        delta_phi = np.radians(i[lat2]-i[lat1])\n        delta_lambda = np.radians(i[long2]-i[long1])\n    \n        #a = sin²((φB - φA)/2) + cos φA . cos φB . sin²((λB - λA)/2)\n        a = np.sin(delta_phi / 2.0) ** 2 + np.cos(phi1) * np.cos(phi2) * np.sin(delta_lambda / 2.0) ** 2\n    \n        #c = 2 * atan2( √a, √(1−a) )\n        c = 2 * np.arctan2(np.sqrt(a), np.sqrt(1-a))\n    \n        #d = R*c\n        d = (R * c) #in kilometers\n        i['H_Distance'] = d\n    return d",
      "execution_count": null,
      "outputs": []
    },
    {
      "metadata": {
        "_kg_hide-output": true,
        "trusted": true,
        "_uuid": "ab1a7ea19b72357dd97b6204db370b897113b62f",
        "scrolled": true
      },
      "cell_type": "code",
      "source": "haversine_distance('pickup_latitude', 'pickup_longitude', 'dropoff_latitude', 'dropoff_longitude')",
      "execution_count": null,
      "outputs": []
    },
    {
      "metadata": {
        "_kg_hide-output": true,
        "trusted": true,
        "_uuid": "b94499055bd9f02a3a4945c16f2c002b9dac3569"
      },
      "cell_type": "code",
      "source": "train['H_Distance'].head(10)",
      "execution_count": null,
      "outputs": []
    },
    {
      "metadata": {
        "_kg_hide-output": true,
        "trusted": true,
        "_uuid": "5adcaaa0f55358e3d8930b13ec2af64aadc5f7f2"
      },
      "cell_type": "code",
      "source": "test['H_Distance'].head(10)",
      "execution_count": null,
      "outputs": []
    },
    {
      "metadata": {
        "_kg_hide-output": true,
        "trusted": true,
        "_uuid": "a67b8e8da0a7edbbdcc82e7cf26ee7f0bda81811"
      },
      "cell_type": "code",
      "source": "train.head(10)",
      "execution_count": null,
      "outputs": []
    },
    {
      "metadata": {
        "_kg_hide-output": true,
        "trusted": true,
        "_uuid": "ded4d08d5fe820f26c47e672bee2ce31a7fb3e51"
      },
      "cell_type": "code",
      "source": "test.head(10)",
      "execution_count": null,
      "outputs": []
    },
    {
      "metadata": {
        "_uuid": "d8760e53bb1a473acad96662d7ea52190d0a820b"
      },
      "cell_type": "markdown",
      "source": "Now that we have calculated the distance, we shall create columns for the following - \n* year\n* month\n* date\n* hour\n* day of week"
    },
    {
      "metadata": {
        "trusted": true,
        "_uuid": "c8e12e9422c779600760c4a60561c35df3d6988f",
        "collapsed": true
      },
      "cell_type": "code",
      "source": "data = [train,test]\nfor i in data:\n    i['Year'] = i['pickup_datetime'].dt.year\n    i['Month'] = i['pickup_datetime'].dt.month\n    i['Date'] = i['pickup_datetime'].dt.day\n    i['Day of Week'] = i['pickup_datetime'].dt.dayofweek\n    i['Hour'] = i['pickup_datetime'].dt.hour",
      "execution_count": null,
      "outputs": []
    },
    {
      "metadata": {
        "trusted": true,
        "_uuid": "e7905271ebeb09a5c2b8a44735c9f98f8c4fedf9",
        "_kg_hide-output": true
      },
      "cell_type": "code",
      "source": "train.head()",
      "execution_count": null,
      "outputs": []
    },
    {
      "metadata": {
        "_kg_hide-output": true,
        "trusted": true,
        "_uuid": "5f61483d575441ca6eba65e9d8b64f7eb85e95dc"
      },
      "cell_type": "code",
      "source": "test.head()",
      "execution_count": null,
      "outputs": []
    },
    {
      "metadata": {
        "_uuid": "9188b90f04e231dcadbf51e8d2e4d3e2a9708bd7"
      },
      "cell_type": "markdown",
      "source": "**1. Does the number of passengers affect the fare? **"
    },
    {
      "metadata": {
        "_kg_hide-output": true,
        "trusted": true,
        "_uuid": "7d3cddcadc4901c966d0ce857b0e76d203513eca",
        "collapsed": true
      },
      "cell_type": "code",
      "source": "plt.figure(figsize=(15,7))\nplt.hist(train['passenger_count'], bins=15)\nplt.xlabel('No. of Passengers')\nplt.ylabel('Frequency')",
      "execution_count": null,
      "outputs": []
    },
    {
      "metadata": {
        "trusted": true,
        "_uuid": "254d0801e21cd87ec3e5b6a0a09eae9bc0a29f30",
        "_kg_hide-output": true,
        "collapsed": true
      },
      "cell_type": "code",
      "source": "plt.figure(figsize=(15,7))\nplt.scatter(x=train['passenger_count'], y=train['fare_amount'], s=1.5)\nplt.xlabel('No. of Passengers')\nplt.ylabel('Fare')",
      "execution_count": null,
      "outputs": []
    },
    {
      "metadata": {
        "trusted": true,
        "collapsed": true,
        "_uuid": "43649bc6e5b80249a0a8881e6bbc36655b5d659e"
      },
      "cell_type": "markdown",
      "source": "From the above 2 graphs we can see that single passengers are the most frequent travellers, and the highest fare also seems to come from cabs which carry just 1 passenger."
    },
    {
      "metadata": {
        "_uuid": "a0875cfd7b96684b5fc074f381f5d249f96cbee9"
      },
      "cell_type": "markdown",
      "source": "**2. Does the date and time of pickup affect the fare?**"
    },
    {
      "metadata": {
        "_kg_hide-output": true,
        "trusted": true,
        "_uuid": "9e3678ad8100fc3c98d62db363f904af46f0e9b4",
        "collapsed": true
      },
      "cell_type": "code",
      "source": "plt.figure(figsize=(15,7))\nplt.scatter(x=train['Date'], y=train['fare_amount'], s=1.5)\nplt.xlabel('Date')\nplt.ylabel('Fare')",
      "execution_count": null,
      "outputs": []
    },
    {
      "metadata": {
        "_uuid": "cbece6085a2e2a80c0a5a34c5d44f9ba55535381"
      },
      "cell_type": "markdown",
      "source": "The fares throught the month mostly seem uniform, with the maximum fare received on the 12th"
    },
    {
      "metadata": {
        "_kg_hide-output": true,
        "trusted": true,
        "_uuid": "f6049ebcfaa9942108c0ac2a446b89aba5ab357e",
        "collapsed": true
      },
      "cell_type": "code",
      "source": "plt.figure(figsize=(15,7))\nplt.hist(train['Hour'], bins=100)\nplt.xlabel('Hour')\nplt.ylabel('Frequency')",
      "execution_count": null,
      "outputs": []
    },
    {
      "metadata": {
        "_uuid": "4bf1d9ab30581db3a1099fb122d33465ecdd3be1"
      },
      "cell_type": "markdown",
      "source": "Interesting! The time of day definitely plays an important role. The frequency of cab rides seem to be the lowest at 5AM and the highest at 7PM."
    },
    {
      "metadata": {
        "_kg_hide-output": true,
        "trusted": true,
        "_uuid": "f4a41ab563886cd41aa23ec827d363db5fc680e2",
        "collapsed": true
      },
      "cell_type": "code",
      "source": "plt.figure(figsize=(15,7))\nplt.scatter(x=train['Hour'], y=train['fare_amount'], s=1.5)\nplt.xlabel('Hour')\nplt.ylabel('Fare')",
      "execution_count": null,
      "outputs": []
    },
    {
      "metadata": {
        "_uuid": "bdf4567f89b203bb8463d33707c433c133ef7cf0"
      },
      "cell_type": "markdown",
      "source": "The fares, however, seem to be high betweeb 5AM and 10AM, and 2PM to 4PM. Maybe people who live far away prefer to leave earlier to avoid rush hour traffic?  "
    },
    {
      "metadata": {
        "_uuid": "5e658212ae69fc66844dd46fa8d07c9fa1bc5dda"
      },
      "cell_type": "markdown",
      "source": "**3. Does the day of the week affect the fare?**"
    },
    {
      "metadata": {
        "_kg_hide-output": true,
        "trusted": true,
        "_uuid": "f222426b10f0a5dc54aefc2425d473b0958795be",
        "collapsed": true
      },
      "cell_type": "code",
      "source": "plt.figure(figsize=(15,7))\nplt.hist(train['Day of Week'], bins=100)\nplt.xlabel('Day of Week')\nplt.ylabel('Frequency')",
      "execution_count": null,
      "outputs": []
    },
    {
      "metadata": {
        "_uuid": "6145ac713d34cd74df6c6be3cf92074970f6dd98"
      },
      "cell_type": "markdown",
      "source": "Nah, day of the week doesn't seem to have that much of an influence on the number of cab rides"
    },
    {
      "metadata": {
        "_kg_hide-output": true,
        "trusted": true,
        "_uuid": "22213c005603604521c33ccecdaf14cf093c1019",
        "collapsed": true
      },
      "cell_type": "code",
      "source": "plt.figure(figsize=(15,7))\nplt.scatter(x=train['Day of Week'], y=train['fare_amount'], s=1.5)\nplt.xlabel('Day of Week')\nplt.ylabel('Fare')",
      "execution_count": null,
      "outputs": []
    },
    {
      "metadata": {
        "_uuid": "2b1cd5a2d6499a8e6c7a19a333536de108e92c83"
      },
      "cell_type": "markdown",
      "source": "The highest fares seem to be on a Sunday and Monday, and the lowest on Wednesday and Friday. Maybe people travel far distances on Sunday and Monday (visiting family and returning back home), and hence, the high fares. And guess people just want to stay at home on a Friday after a hectic week at work, or grab a drink from close by. Hmmm.."
    },
    {
      "metadata": {
        "_uuid": "3a3c1e5e14376cd6396dfd157f6972c92be06b86"
      },
      "cell_type": "markdown",
      "source": "**4. Does the distance affect the fare?**\n\nThis is a no-brainer. I am confident that the distance would affect the fare a great deal. But I will visualise it.\n\nFirstly, let's check the frequency of the distances that we calculated using Haversine formula. I will do so by creating bins (0-10 kms, 10-20 kms, and so on, and check for any outliers)"
    },
    {
      "metadata": {
        "trusted": true,
        "_uuid": "55a54499f053b7d8c7ac6e104e624f724f64a92f",
        "_kg_hide-output": true,
        "collapsed": true
      },
      "cell_type": "code",
      "source": "train.sort_values(['H_Distance','fare_amount'], ascending=False)",
      "execution_count": null,
      "outputs": []
    },
    {
      "metadata": {
        "trusted": true,
        "_uuid": "02239f285c9543f3ce160da197243b8e3033cbda",
        "collapsed": true
      },
      "cell_type": "code",
      "source": "len(train)",
      "execution_count": null,
      "outputs": []
    },
    {
      "metadata": {
        "trusted": true,
        "_uuid": "e23def4d62c89c4dc7f83a100d2580fc1628d223",
        "collapsed": true
      },
      "cell_type": "code",
      "source": "bins_0 = train.loc[(train['H_Distance'] == 0), ['H_Distance']]\nbins_1 = train.loc[(train['H_Distance'] > 0) & (train['H_Distance'] <= 10),['H_Distance']]\nbins_2 = train.loc[(train['H_Distance'] > 10) & (train['H_Distance'] <= 50),['H_Distance']]\nbins_3 = train.loc[(train['H_Distance'] > 50) & (train['H_Distance'] <= 100),['H_Distance']]\nbins_4 = train.loc[(train['H_Distance'] > 100) & (train['H_Distance'] <= 200),['H_Distance']]\nbins_5 = train.loc[(train['H_Distance'] > 200) & (train['H_Distance'] <= 300),['H_Distance']]\nbins_6 = train.loc[(train['H_Distance'] > 300),['H_Distance']]\nbins_0['bins'] = '0'\nbins_1['bins'] = '0-10'\nbins_2['bins'] = '11-50'\nbins_3['bins'] = '51-100'\nbins_4['bins'] = '100-200'\nbins_5['bins'] = '201-300'\nbins_6['bins'] = '>300'\ndist_bins =pd.concat([bins_0,bins_1,bins_2,bins_3,bins_4,bins_5,bins_6])\n#len(dist_bins)\ndist_bins.columns",
      "execution_count": null,
      "outputs": []
    },
    {
      "metadata": {
        "trusted": true,
        "_uuid": "7fb57ff99cba1e547ca70c5e6b3357dc0e5ab1a5",
        "_kg_hide-output": true,
        "collapsed": true
      },
      "cell_type": "code",
      "source": "plt.figure(figsize=(15,7))\nplt.hist(dist_bins['bins'], bins=75)\nplt.xlabel('Bins')\nplt.ylabel('Frequency')",
      "execution_count": null,
      "outputs": []
    },
    {
      "metadata": {
        "trusted": true,
        "_uuid": "1f2c31d6fbecfcafdb653266e913d5fa97fad4bf",
        "collapsed": true
      },
      "cell_type": "code",
      "source": "Counter(dist_bins['bins'])",
      "execution_count": null,
      "outputs": []
    },
    {
      "metadata": {
        "_uuid": "65e9cafc8ebf855468d0255623ca26d456e9613e"
      },
      "cell_type": "markdown",
      "source": "There are values which are greater than 100 kms! In NYC I am not sure why people would take cabs to travel more than a 100 kms. Since the number of bins for 100-200 kms is quite high, I will keep these. These outliers could be because of typos or missing values in the latitude or longitude. Remove fields of the following - \n1.  Pickup latitude and pickup longitude are 0 but dropoff latitude and longitude are not 0, but the fare is 0\n2. vice versa of point 1.\n3. Pickup latitude and pickup longitude are 0 but dropoff latitude and longitude are not 0, but the fare is NOT 0. Here I will have to impute the distance values in both the train and test data."
    },
    {
      "metadata": {
        "_kg_hide-output": true,
        "trusted": true,
        "_uuid": "23cb8bb4b3642f7293d57b197f1c42529d6fcc46"
      },
      "cell_type": "code",
      "source": "#pickup latitude and longitude = 0\ntrain.loc[((train['pickup_latitude']==0) & (train['pickup_longitude']==0))&((train['dropoff_latitude']!=0) & (train['dropoff_longitude']!=0)) & (train['fare_amount']==0)]",
      "execution_count": null,
      "outputs": []
    },
    {
      "metadata": {
        "trusted": true,
        "_uuid": "2c2339b8b1cbccf8854913f10adb4ea7128a461f",
        "collapsed": true
      },
      "cell_type": "code",
      "source": "train = train.drop(train.loc[((train['pickup_latitude']==0) & (train['pickup_longitude']==0))&((train['dropoff_latitude']!=0) & (train['dropoff_longitude']!=0)) & (train['fare_amount']==0)].index, axis=0)",
      "execution_count": null,
      "outputs": []
    },
    {
      "metadata": {
        "trusted": true,
        "_uuid": "03c18e495827eb0386cce79b65f754280e7345df"
      },
      "cell_type": "code",
      "source": "#1 row dropped\ntrain.shape",
      "execution_count": null,
      "outputs": []
    },
    {
      "metadata": {
        "trusted": true,
        "_uuid": "5559d93c32d0f65f76cf0c399fa739645d2360be"
      },
      "cell_type": "code",
      "source": "#Check in test data\ntest.loc[((test['pickup_latitude']==0) & (test['pickup_longitude']==0))&((test['dropoff_latitude']!=0) & (test['dropoff_longitude']!=0))]\n#No records! PHEW!",
      "execution_count": null,
      "outputs": []
    },
    {
      "metadata": {
        "_kg_hide-output": true,
        "trusted": true,
        "_uuid": "181041eb8b1bed84235d3d9509ad21a576fbb9b1"
      },
      "cell_type": "code",
      "source": "#dropoff latitude and longitude = 0\ntrain.loc[((train['pickup_latitude']!=0) & (train['pickup_longitude']!=0))&((train['dropoff_latitude']==0) & (train['dropoff_longitude']==0)) & (train['fare_amount']==0)]",
      "execution_count": null,
      "outputs": []
    },
    {
      "metadata": {
        "_kg_hide-output": false,
        "trusted": true,
        "_uuid": "ad924137b8fc4ab65531242aaf92ffd807bfd777",
        "collapsed": true
      },
      "cell_type": "code",
      "source": "train = train.drop(train.loc[((train['pickup_latitude']!=0) & (train['pickup_longitude']!=0))&((train['dropoff_latitude']==0) & (train['dropoff_longitude']==0)) & (train['fare_amount']==0)].index, axis=0)",
      "execution_count": null,
      "outputs": []
    },
    {
      "metadata": {
        "trusted": true,
        "_uuid": "a1d45b47248c8f2b23a15b080daefff1c012adae"
      },
      "cell_type": "code",
      "source": "#3 rows dropped\ntrain.shape",
      "execution_count": null,
      "outputs": []
    },
    {
      "metadata": {
        "trusted": true,
        "_uuid": "2fb41e06e10e51562e29f10421b619289de548af"
      },
      "cell_type": "code",
      "source": "#Checking test data\n#Again no records! AWESOME!\ntest.loc[((test['pickup_latitude']!=0) & (test['pickup_longitude']!=0))&((test['dropoff_latitude']==0) & (test['dropoff_longitude']==0))]",
      "execution_count": null,
      "outputs": []
    },
    {
      "metadata": {
        "_uuid": "8b9f2566eba89b32f70704d3ac6ba9a493032c1d"
      },
      "cell_type": "markdown",
      "source": "Check the H_Distance fields which are greater than 200 kms cause there is no way that people would travel more than 200 kms at the most in NYC in a CAB!"
    },
    {
      "metadata": {
        "_kg_hide-output": true,
        "trusted": true,
        "collapsed": true,
        "_uuid": "2d595f5a2616a229eaf1e3aef73d4f6d15e049bf"
      },
      "cell_type": "code",
      "source": "high_distance = train.loc[(train['H_Distance']>200)&(train['fare_amount']!=0)]",
      "execution_count": null,
      "outputs": []
    },
    {
      "metadata": {
        "_kg_hide-output": true,
        "trusted": true,
        "_uuid": "960d2b012be8ca92efcfda8d8c286802038364d5"
      },
      "cell_type": "code",
      "source": "high_distance",
      "execution_count": null,
      "outputs": []
    },
    {
      "metadata": {
        "_uuid": "aa7776a7074c7f140462e3d3f57afa88441145c2"
      },
      "cell_type": "markdown",
      "source": "1938 rows! As you can see from the DF above, the abnormally high distances are due to either the pickup or dropoff co-ordinates being incorrect or 0. However, since all these values have fares, I do not wish to drop them as they contain crucial data. Instead, I will replace the initial distance values with distance values calculated using the fare using the following formula \n\n> *distance = (fare_amount - 2.5)/1.56*"
    },
    {
      "metadata": {
        "trusted": true,
        "_uuid": "232e0e7e4ddf51942828c8002e25f1f7c195d224",
        "scrolled": true
      },
      "cell_type": "code",
      "source": "high_distance.shape",
      "execution_count": null,
      "outputs": []
    },
    {
      "metadata": {
        "trusted": true,
        "scrolled": false,
        "_uuid": "a9fba56624f23bc5d5db832f9a8ada8719b0a9ea"
      },
      "cell_type": "code",
      "source": "high_distance['H_Distance'] = high_distance.apply(\n    lambda row: (row['fare_amount'] - 2.50)/1.56,\n    axis=1\n)",
      "execution_count": null,
      "outputs": []
    },
    {
      "metadata": {
        "_kg_hide-output": true,
        "trusted": true,
        "_uuid": "6ff8d33776edec195a11629538810aac3f1e5205"
      },
      "cell_type": "code",
      "source": "#The distance values have been replaced by the newly calculated ones according to the fare\nhigh_distance",
      "execution_count": null,
      "outputs": []
    },
    {
      "metadata": {
        "trusted": true,
        "collapsed": true,
        "_uuid": "35fdbd6bcdfe1a21126706b64e8fed8cfa11d5d0"
      },
      "cell_type": "code",
      "source": "#sync the train data with the newly computed distance values from high_distance dataframe\ntrain.update(high_distance)",
      "execution_count": null,
      "outputs": []
    },
    {
      "metadata": {
        "trusted": true,
        "_uuid": "a81a0a9974a08ad6b98cbb12374ef83d48e6acfb"
      },
      "cell_type": "code",
      "source": "train.shape",
      "execution_count": null,
      "outputs": []
    },
    {
      "metadata": {
        "_kg_hide-output": true,
        "_uuid": "84c1d8417eaefdd6b815b8e27c72186d326840af"
      },
      "cell_type": "markdown",
      "source": "Now we shall check for rows where the distance values are 0"
    },
    {
      "metadata": {
        "trusted": true,
        "_uuid": "3114aa53563edeb91e54e0bcfdcd11a6b5040b4c",
        "_kg_hide-output": true
      },
      "cell_type": "code",
      "source": "train[train['H_Distance']==0]",
      "execution_count": null,
      "outputs": []
    },
    {
      "metadata": {
        "_uuid": "2d1d43452b058ab29da9e03bd484276a4dd90e28"
      },
      "cell_type": "markdown",
      "source": "We can see a few rows with distance =0. This could be due to 2 reasons \n1. The cab waited the whole time and the passenger eventually cancelled. *That's why the pickup and drop co-ordinates are the same and maybe, the passenger was charged for the waiting time.*\n2. The pickup and drop co-ordinates were not entered. In other words, these are **missing values**!\n\n28667 rows are too many rows to be deleted. We need to impute these missing values. I have a plan. I intend to impute the missing distance values with the fare and average price per kilometer of NYC cabs.\n\nA quick Google search gave me the following prices  - \n\n* $$2.5 base-price  +  $1.56/km --> 6AM to 8PM Mon-Fri\n\n* $$3.0 base-price  +  $1.56/km --> 8PM to 6AM Mon-Fri and Sat&Sun\n\nHowever, before we proceed with the above steps, lets check for the following scenarios to impute the missing fare amount and the H_Distance in train data.\n\n![image.png](attachment:image.png)\n",
      "attachments": {
        "image.png": {
          "image/png": "[encoded data removed]"
        }
      }
    },
    {
      "metadata": {
        "_uuid": "0f717118016e86b7472853ca4c4a3462c164e62b"
      },
      "cell_type": "markdown",
      "source": "**SCENARIO 1**\n\nFare and Distance are both 0. According to the table above, we shall delete them as they do not provide us any info with regards to the data."
    },
    {
      "metadata": {
        "_kg_hide-output": true,
        "trusted": true,
        "_uuid": "5fd60a71585ad265e8d0b3115115f055e3cbef83"
      },
      "cell_type": "code",
      "source": "train[(train['H_Distance']==0)&(train['fare_amount']==0)]",
      "execution_count": null,
      "outputs": []
    },
    {
      "metadata": {
        "_uuid": "94538ad0a8a05ef169910594fdd2a958f67b354c"
      },
      "cell_type": "markdown",
      "source": "There are 4 rows. There 4 rows do not help us in anyway as we do not know either the distance or the fare to impute the missing values. So we shall drop them "
    },
    {
      "metadata": {
        "trusted": true,
        "collapsed": true,
        "_uuid": "9d3635c8369e1d20788d7c1028df9702fc482efc"
      },
      "cell_type": "code",
      "source": "train = train.drop(train[(train['H_Distance']==0)&(train['fare_amount']==0)].index, axis = 0)",
      "execution_count": null,
      "outputs": []
    },
    {
      "metadata": {
        "trusted": true,
        "_uuid": "b851837ec1b722250c35b0709d310e9fb78e1d37"
      },
      "cell_type": "code",
      "source": "#4 rows dropped\ntrain[(train['H_Distance']==0)].shape",
      "execution_count": null,
      "outputs": []
    },
    {
      "metadata": {
        "_uuid": "b4a3a0149c46d7f7a7f8e275d2b002ebcec0e512"
      },
      "cell_type": "markdown",
      "source": "**SCENARIO 2**\n\nFare is not 0 and is less than the base amount, but Distance is 0.\n\nDelete these rows as the minimum is $2.50, and these fares are incorrect values."
    },
    {
      "metadata": {
        "trusted": true,
        "_uuid": "f5ac4abae042d2f8febed1c238897651c7baf559",
        "_kg_hide-output": true
      },
      "cell_type": "code",
      "source": "#Between 6AM and 8PM on Mon-Fri\nrush_hour = train.loc[(((train['Hour']>=6)&(train['Hour']<=20)) & ((train['Day of Week']>=1) & (train['Day of Week']<=5)) & (train['H_Distance']==0) & (train['fare_amount'] < 2.5))]\nrush_hour",
      "execution_count": null,
      "outputs": []
    },
    {
      "metadata": {
        "trusted": true,
        "collapsed": true,
        "_uuid": "a4980a746e4c2feb817dcea0259cd5e0ba6fb92d"
      },
      "cell_type": "code",
      "source": "train=train.drop(rush_hour.index, axis=0)",
      "execution_count": null,
      "outputs": []
    },
    {
      "metadata": {
        "trusted": true,
        "_uuid": "34b6362db50ba18a5aaeffaeab5651920bb20b4e"
      },
      "cell_type": "code",
      "source": "train.shape",
      "execution_count": null,
      "outputs": []
    },
    {
      "metadata": {
        "trusted": true,
        "_uuid": "ac4877f7da0861042538a3d2aacf3f2c2b3f68c7",
        "_kg_hide-output": true
      },
      "cell_type": "code",
      "source": "#Between 8PM and 6AM on Mon-Fri\nnon_rush_hour = train.loc[(((train['Hour']<6)|(train['Hour']>20)) & ((train['Day of Week']>=1)&(train['Day of Week']<=5)) & (train['H_Distance']==0) & (train['fare_amount'] < 3.0))]\n#print(Counter(non_work_hours['Hour']))\n#print(Counter(non_work_hours['Day of Week']))\nnon_rush_hour\n#keep these. Since the fare_amount is not <2.5 (which is the base fare), these values seem legit to me.",
      "execution_count": null,
      "outputs": []
    },
    {
      "metadata": {
        "trusted": true,
        "_uuid": "e6495b9b1c420b6334f00136803c214522d10782",
        "_kg_hide-output": true
      },
      "cell_type": "code",
      "source": "#Saturday and Sunday all hours\nweekends = train.loc[((train['Day of Week']==0) | (train['Day of Week']==6)) & (train['H_Distance']==0) & (train['fare_amount'] < 3.0)]\nweekends\n#Counter(weekends['Day of Week'])\n#keep these too. Since the fare_amount is not <2.5, these values seem legit to me.",
      "execution_count": null,
      "outputs": []
    },
    {
      "metadata": {
        "_uuid": "a90f211c78cd0f3fa24882f0e20b19f95a9697e9"
      },
      "cell_type": "markdown",
      "source": "From scenario 2, I can understand that the distance is 0, but the fare is all the minimum fare of $2.5. This could be because the passenger booked the cab but ended up cancelling to pay the base fare (not sure how this works in NYC, but I'm assuming that's how it is)"
    },
    {
      "metadata": {
        "_uuid": "eb2996375dfeae515731928bb21263b33939db50"
      },
      "cell_type": "markdown",
      "source": "**SCENARIO 3**\n\nFare is 0, but Distance is not 0. These values need to be imputed.\n\nI can calculate the fare as I have the distance. I shall use the following formula\n> *fare = 2.5 + 1.56(H_Distance)*"
    },
    {
      "metadata": {
        "trusted": true,
        "_uuid": "ba42a1d0783f0289f8a4ed3a648c5030fa8612c6",
        "_kg_hide-output": true
      },
      "cell_type": "code",
      "source": "train.loc[(train['H_Distance']!=0) & (train['fare_amount']==0)]",
      "execution_count": null,
      "outputs": []
    },
    {
      "metadata": {
        "trusted": true,
        "collapsed": true,
        "_uuid": "5e73dfe64e8bea18ef3c04c8205819cdd129e8cd"
      },
      "cell_type": "code",
      "source": "scenario_3 = train.loc[(train['H_Distance']!=0) & (train['fare_amount']==0)]",
      "execution_count": null,
      "outputs": []
    },
    {
      "metadata": {
        "trusted": true,
        "_uuid": "5a0ed3d7e5252260cf37186a964941ab33e679fb"
      },
      "cell_type": "code",
      "source": "len(scenario_3)",
      "execution_count": null,
      "outputs": []
    },
    {
      "metadata": {
        "trusted": true,
        "_uuid": "ecf59475586a57c159f22b730eb136aeb368dd3f",
        "_kg_hide-output": true
      },
      "cell_type": "code",
      "source": "#We do not have any distance values that are outliers.\nscenario_3.sort_values('H_Distance', ascending=False)",
      "execution_count": null,
      "outputs": []
    },
    {
      "metadata": {
        "trusted": true,
        "_uuid": "9cc54fbebcbe154f41944261bc59bdd6daac635a"
      },
      "cell_type": "code",
      "source": "scenario_3['fare_amount'] = scenario_3.apply(\n    lambda row: ((row['H_Distance'] * 1.56) + 2.50), axis=1\n)",
      "execution_count": null,
      "outputs": []
    },
    {
      "metadata": {
        "_kg_hide-output": true,
        "trusted": true,
        "_uuid": "ffcf0061c1a3675289778afda1694bfde3428a01"
      },
      "cell_type": "code",
      "source": "scenario_3['fare_amount']",
      "execution_count": null,
      "outputs": []
    },
    {
      "metadata": {
        "trusted": true,
        "collapsed": true,
        "_uuid": "7da7adf49aaf25c5b3a9cf408669dce9af153436"
      },
      "cell_type": "code",
      "source": "train.update(scenario_3)",
      "execution_count": null,
      "outputs": []
    },
    {
      "metadata": {
        "trusted": true,
        "_uuid": "d6f9efd17d0a89b0f2d8935be388c5b9e2cedc95"
      },
      "cell_type": "code",
      "source": "train.shape",
      "execution_count": null,
      "outputs": []
    },
    {
      "metadata": {
        "trusted": true,
        "collapsed": true,
        "_uuid": "a85b46c066f8ba14d5c3f9ac4566a342bd139850"
      },
      "cell_type": "markdown",
      "source": "**SCENARIO 4**\n\nFare is  not 0, but Distance is 0. These values need to be imputed."
    },
    {
      "metadata": {
        "trusted": true,
        "_uuid": "6f56a0dac462a73c71f71483d618a26dc476aa71",
        "_kg_hide-output": true
      },
      "cell_type": "code",
      "source": "train.loc[(train['H_Distance']==0) & (train['fare_amount']!=0)]",
      "execution_count": null,
      "outputs": []
    },
    {
      "metadata": {
        "trusted": true,
        "collapsed": true,
        "_uuid": "904283007ddf5c7630d78c6bc5fa4891bed354db"
      },
      "cell_type": "code",
      "source": "scenario_4 = train.loc[(train['H_Distance']==0) & (train['fare_amount']!=0)]",
      "execution_count": null,
      "outputs": []
    },
    {
      "metadata": {
        "trusted": true,
        "_uuid": "7fedca0b5fd8e63a1ef4ffe7fc66d212cd20575a"
      },
      "cell_type": "code",
      "source": "len(scenario_4)",
      "execution_count": null,
      "outputs": []
    },
    {
      "metadata": {
        "_kg_hide-output": true,
        "trusted": true,
        "_uuid": "9d84dc8feddb375e454f0a20aec30e81c03f0b3e"
      },
      "cell_type": "code",
      "source": "#Using our prior knowledge about the base price during weekdays and weekends for the cabs.\n#I do not want to impute these 1502 values as they are legible ones.\nscenario_4.loc[(scenario_4['fare_amount']<=3.0)&(scenario_4['H_Distance']==0)]",
      "execution_count": null,
      "outputs": []
    },
    {
      "metadata": {
        "_kg_hide-output": true,
        "trusted": true,
        "_uuid": "c5eb22491c5d49f0b11dfbccd506780343696351"
      },
      "cell_type": "code",
      "source": "scenario_4.loc[(scenario_4['fare_amount']>3.0)&(scenario_4['H_Distance']==0)]",
      "execution_count": null,
      "outputs": []
    },
    {
      "metadata": {
        "_uuid": "44dac5f0daeeb51d19439c8758f1717528325c70"
      },
      "cell_type": "markdown",
      "source": "These 27159 rows need to be imputed using the following formula - \n> *distance = (fare_amount - 2.5)/1.56*"
    },
    {
      "metadata": {
        "trusted": true,
        "collapsed": true,
        "_uuid": "b5029a205fefa2836e7287ad730dc5859f1aabfd"
      },
      "cell_type": "code",
      "source": "scenario_4_sub = scenario_4.loc[(scenario_4['fare_amount']>3.0)&(scenario_4['H_Distance']==0)]",
      "execution_count": null,
      "outputs": []
    },
    {
      "metadata": {
        "trusted": true,
        "_uuid": "edc82fce48d490a0e1d49cf94129b45f3aa180ac"
      },
      "cell_type": "code",
      "source": "len(scenario_4_sub)",
      "execution_count": null,
      "outputs": []
    },
    {
      "metadata": {
        "trusted": true,
        "_uuid": "d9a0a9c50016becb2438372c60bf71480ff59ef5"
      },
      "cell_type": "code",
      "source": "scenario_4_sub['H_Distance'] = scenario_4_sub.apply(\nlambda row: ((row['fare_amount']-2.50)/1.56), axis=1\n)",
      "execution_count": null,
      "outputs": []
    },
    {
      "metadata": {
        "trusted": true,
        "collapsed": true,
        "_uuid": "cc7238e493ffca27b3fdad44d09bdeb1d6313018"
      },
      "cell_type": "code",
      "source": "train.update(scenario_4_sub)",
      "execution_count": null,
      "outputs": []
    },
    {
      "metadata": {
        "trusted": true,
        "_uuid": "23f1ee623dfb61f9323ef8940ea0c3b9c02148c6"
      },
      "cell_type": "code",
      "source": "train.shape",
      "execution_count": null,
      "outputs": []
    },
    {
      "metadata": {
        "_uuid": "be7c6322bca6e10277dd88e4d24dd27ce90511e4"
      },
      "cell_type": "markdown",
      "source": "**PART 2 --> MODELLING AND PREDICTION**\n\nFINALLY! Data cleansing is done! Now to split the x and y variables and proceed to modelling. I shall use the random forest method for prediction"
    },
    {
      "metadata": {
        "trusted": true,
        "_uuid": "2e0aec3259b01ba1b66397cb0c9ab9f66442829d",
        "collapsed": true
      },
      "cell_type": "code",
      "source": "train.columns",
      "execution_count": null,
      "outputs": []
    },
    {
      "metadata": {
        "trusted": true,
        "_uuid": "478a5ceb1fd6a3b4e70e72aa75b0a539738cc5b4",
        "collapsed": true
      },
      "cell_type": "code",
      "source": "test.columns",
      "execution_count": null,
      "outputs": []
    },
    {
      "metadata": {
        "trusted": true,
        "collapsed": true,
        "_uuid": "7cb7241f509d711cfe864d3e12eaa0e5d0187361"
      },
      "cell_type": "code",
      "source": "#not including the pickup_datetime columns as datetime columns cannot be directly used while modelling. Features need to extracted from the \n#timestamp fields which will later be used as features for modelling.\ntrain = train.drop(['key','pickup_datetime'], axis = 1)\ntest = test.drop(['key','pickup_datetime'], axis = 1)",
      "execution_count": null,
      "outputs": []
    },
    {
      "metadata": {
        "trusted": true,
        "_uuid": "33cc823200281fda99077f6dea76ff50002f0b8d",
        "collapsed": true
      },
      "cell_type": "code",
      "source": "train.columns",
      "execution_count": null,
      "outputs": []
    },
    {
      "metadata": {
        "trusted": true,
        "_uuid": "8fd8d78d9886b8491dfc5afdf29e02873a9a78e3",
        "collapsed": true
      },
      "cell_type": "code",
      "source": "test.columns",
      "execution_count": null,
      "outputs": []
    },
    {
      "metadata": {
        "trusted": true,
        "_uuid": "df4852ffce7bb20d405bddad37382809805158c6",
        "collapsed": true
      },
      "cell_type": "code",
      "source": "x_train = train.iloc[:,train.columns!='fare_amount']\ny_train = train['fare_amount'].values\nx_test = test",
      "execution_count": null,
      "outputs": []
    },
    {
      "metadata": {
        "trusted": true,
        "_uuid": "4211b47f12eb8989e928067f3c235d3b2ecf03b9",
        "collapsed": true
      },
      "cell_type": "code",
      "source": "x_train.shape",
      "execution_count": null,
      "outputs": []
    },
    {
      "metadata": {
        "trusted": true,
        "_uuid": "d4c32f95ed8a45a3e21a373e95b38e3df032143e",
        "collapsed": true
      },
      "cell_type": "code",
      "source": "x_train.columns",
      "execution_count": null,
      "outputs": []
    },
    {
      "metadata": {
        "trusted": true,
        "_uuid": "0d1f5cc8488040a54b41cd69c6cdb8e9880cb8b7",
        "collapsed": true
      },
      "cell_type": "code",
      "source": "y_train.shape",
      "execution_count": null,
      "outputs": []
    },
    {
      "metadata": {
        "trusted": true,
        "_uuid": "a22e0a07c481e93a1b2e08be9cebdf2278c1d79b",
        "collapsed": true
      },
      "cell_type": "code",
      "source": "x_test.shape",
      "execution_count": null,
      "outputs": []
    },
    {
      "metadata": {
        "trusted": true,
        "scrolled": true,
        "_uuid": "12495fa48d1ce688edd449de60de089d263192c5",
        "collapsed": true
      },
      "cell_type": "code",
      "source": "x_test.columns",
      "execution_count": null,
      "outputs": []
    },
    {
      "metadata": {
        "trusted": true,
        "_uuid": "73bb1f0b67e945413a261ffefcb25a810620136b",
        "collapsed": true
      },
      "cell_type": "code",
      "source": "from sklearn.ensemble import RandomForestRegressor\nrf = RandomForestRegressor()\nrf.fit(x_train, y_train)\nrf_predict = rf.predict(x_test)\n#print(rf_predict)",
      "execution_count": null,
      "outputs": []
    },
    {
      "metadata": {
        "trusted": true,
        "_uuid": "c69944fdd8171dad17e009ee71d7a4cdea08f4b2",
        "_kg_hide-output": true,
        "collapsed": true
      },
      "cell_type": "code",
      "source": "submission = pd.read_csv('../input/sample_submission.csv')\nsubmission['fare_amount'] = rf_predict\nsubmission.to_csv('submission_1.csv', index=False)\nsubmission.head(20)",
      "execution_count": null,
      "outputs": []
    },
    {
      "metadata": {
        "_uuid": "58af1469a10e24ba0c224fc1ba63a41fe785fe6d"
      },
      "cell_type": "markdown",
      "source": "**BOOSTING USING LGBM**\n\nThis is my first attempt at using a boosting algorithm such as LGBM. Let's see if LGBM really lives up to its hype of improving scores. My intital score with just the RF was 3.39 and placed me in the top 20%."
    },
    {
      "metadata": {
        "trusted": true,
        "collapsed": true,
        "_uuid": "4c2aa552636cc4de176eb9f1505e89649231aa26"
      },
      "cell_type": "code",
      "source": "import lightgbm as lgbm",
      "execution_count": null,
      "outputs": []
    },
    {
      "metadata": {
        "trusted": true,
        "collapsed": true,
        "_uuid": "c40e14308c8c08b328b1779277aac7281424a4da"
      },
      "cell_type": "code",
      "source": "params = {\n        'boosting_type':'gbdt',\n        'objective': 'regression',\n        'nthread': -1,\n        'verbose': 0,\n        'num_leaves': 31,\n        'learning_rate': 0.05,\n        'max_depth': -1,\n        'subsample': 0.8,\n        'subsample_freq': 1,\n        'colsample_bytree': 0.6,\n        'reg_aplha': 1,\n        'reg_lambda': 0.001,\n        'metric': 'rmse',\n        'min_split_gain': 0.5,\n        'min_child_weight': 1,\n        'min_child_samples': 10,\n        'scale_pos_weight':1     \n    }",
      "execution_count": null,
      "outputs": []
    },
    {
      "metadata": {
        "trusted": true,
        "_uuid": "a9d9fc2bf9ad40d7ad03cb204e6db21a33b4c7a4",
        "collapsed": true
      },
      "cell_type": "code",
      "source": "pred_test_y = np.zeros(x_test.shape[0])\npred_test_y.shape",
      "execution_count": null,
      "outputs": []
    },
    {
      "metadata": {
        "trusted": true,
        "_uuid": "d7796af6d7fb89241f6e031cfab4ed07379cc11d",
        "collapsed": true
      },
      "cell_type": "code",
      "source": "train_set = lgbm.Dataset(x_train, y_train, silent=True)\ntrain_set",
      "execution_count": null,
      "outputs": []
    },
    {
      "metadata": {
        "trusted": true,
        "_uuid": "7274838daa18465d039e899b062c21c58f831322",
        "collapsed": true
      },
      "cell_type": "code",
      "source": "model = lgbm.train(params, train_set = train_set, num_boost_round=300)",
      "execution_count": null,
      "outputs": []
    },
    {
      "metadata": {
        "trusted": true,
        "_uuid": "683a5270c6a2cb5e23102d87d70b7af88fbfeee0",
        "collapsed": true
      },
      "cell_type": "code",
      "source": "print(model)",
      "execution_count": null,
      "outputs": []
    },
    {
      "metadata": {
        "trusted": true,
        "_uuid": "2d5205089f705ee3fd0646934d4bd30f12985e3b",
        "collapsed": true
      },
      "cell_type": "code",
      "source": "pred_test_y = model.predict(x_test, num_iteration = model.best_iteration)",
      "execution_count": null,
      "outputs": []
    },
    {
      "metadata": {
        "_kg_hide-output": true,
        "trusted": true,
        "_uuid": "510a3f00fb8e49a4464b77eee26f3e509e511c18",
        "collapsed": true
      },
      "cell_type": "code",
      "source": "print(pred_test_y)",
      "execution_count": null,
      "outputs": []
    },
    {
      "metadata": {
        "trusted": true,
        "_uuid": "0afc419093caaebfc5f51269b98070a3007ca540",
        "collapsed": true
      },
      "cell_type": "code",
      "source": "submission['fare_amount'] = pred_test_y\nsubmission.to_csv('submission_LGB.csv', index=False)\nsubmission.head(20)",
      "execution_count": null,
      "outputs": []
    },
    {
      "metadata": {
        "_uuid": "feffb647c01b591ac6e7d309901cfdff35a3b2d8"
      },
      "cell_type": "markdown",
      "source": "**BOOSTING USING XGBM**"
    },
    {
      "metadata": {
        "trusted": true,
        "collapsed": true,
        "_uuid": "5cde7ac9edd529a9c7e372b046b2d51a749412d2"
      },
      "cell_type": "code",
      "source": "import xgboost as xgb ",
      "execution_count": null,
      "outputs": []
    },
    {
      "metadata": {
        "trusted": true,
        "collapsed": true,
        "_uuid": "b0899b7e18e207cbb8034e9e500212c3ca4a7fef"
      },
      "cell_type": "code",
      "source": "dtrain = xgb.DMatrix(x_train, label=y_train)\ndtest = xgb.DMatrix(x_test)",
      "execution_count": null,
      "outputs": []
    },
    {
      "metadata": {
        "trusted": true,
        "_uuid": "09acc376f993562d476a71670f97d4fb7b2eff49"
      },
      "cell_type": "code",
      "source": "dtrain",
      "execution_count": null,
      "outputs": []
    },
    {
      "metadata": {
        "trusted": true,
        "_uuid": "a67f6c5cd48c32634f500b7f83622c65f708b5fd"
      },
      "cell_type": "code",
      "source": "#set parameters for xgboost\nparams = {'max_depth':7,\n          'eta':1,\n          'silent':1,\n          'objective':'reg:linear',\n          'eval_metric':'rmse',\n          'learning_rate':0.05\n         }\nnum_rounds = 50",
      "execution_count": null,
      "outputs": []
    },
    {
      "metadata": {
        "trusted": true,
        "_uuid": "3563b514c3efb0b7e80e660bc99852a38c9d1cd5"
      },
      "cell_type": "code",
      "source": "xb = xgb.train(params, dtrain, num_rounds)",
      "execution_count": null,
      "outputs": []
    },
    {
      "metadata": {
        "trusted": true,
        "_uuid": "0296020349d83631889f66f98fcd78be941baf1d"
      },
      "cell_type": "code",
      "source": "y_pred_xgb = xb.predict(dtest)\nprint(y_pred_xgb)",
      "execution_count": null,
      "outputs": []
    },
    {
      "metadata": {
        "trusted": true,
        "_uuid": "5920b6d58a4394e2ca2c12a55fd6c7d9d503b531"
      },
      "cell_type": "code",
      "source": "submission['fare_amount'] = y_pred_xgb\nsubmission.to_csv('submission_XGB.csv', index=False)\nsubmission.head(20)",
      "execution_count": null,
      "outputs": []
    },
    {
      "metadata": {
        "trusted": true,
        "collapsed": true,
        "_uuid": "0a2205b642c6d0fa749947ca05852ad27ae18cf9"
      },
      "cell_type": "markdown",
      "source": "And that's a wrap! With the Random Forest code I, got a score of 3.39, which was in the top 20%, with LGBM I got a score of 3.37 (which wasn't a great improvement from my initial RF model but helped me jump a couple of places up the leaderboard), and with XGBoost I got a 3.61, which is the worst of all my submissions. Maybe parameter tuning would help further. :) "
    },
    {
      "metadata": {
        "_uuid": "f47cd0c5d44e280cf5ba911a283ecc97fed2a170"
      },
      "cell_type": "markdown",
      "source": ""
    }
  ],
  "metadata": {
    "kernelspec": {
      "display_name": "Python 3",
      "language": "python",
      "name": "python3"
    },
    "language_info": {
      "name": "python",
      "version": "3.6.6",
      "mimetype": "text/x-python",
      "codemirror_mode": {
        "name": "ipython",
        "version": 3
      },
      "pygments_lexer": "ipython3",
      "nbconvert_exporter": "python",
      "file_extension": ".py"
    }
  },
  "nbformat": 4,
  "nbformat_minor": 1
}